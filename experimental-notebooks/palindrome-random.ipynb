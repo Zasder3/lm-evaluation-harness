{
 "cells": [
  {
   "cell_type": "code",
   "execution_count": 2,
   "metadata": {},
   "outputs": [],
   "source": [
    "import json\n",
    "from pprint import pprint"
   ]
  },
  {
   "cell_type": "code",
   "execution_count": 3,
   "metadata": {},
   "outputs": [],
   "source": [
    "with open(\"successful_csvs_poly_palr.json\") as f:\n",
    "    data = json.load(f)"
   ]
  },
  {
   "cell_type": "code",
   "execution_count": 5,
   "metadata": {},
   "outputs": [
    {
     "name": "stdout",
     "output_type": "stream",
     "text": [
      "openrouter/meta-llama/llama-3.1-8b-instruct polynomial.py.TestPolynomial 3\n",
      "openrouter/meta-llama/llama-3.1-8b-instruct palindrome.py.TestPalindrome 0\n",
      "openrouter/meta-llama/llama-3.1-8b-instruct palindrome_random.py.TestPalindromeRandom 5\n"
     ]
    }
   ],
   "source": [
    "for key in data:\n",
    "    for item in data[key]:\n",
    "        print(key, item, len(data[key][item]))\n"
   ]
  },
  {
   "cell_type": "code",
   "execution_count": 6,
   "metadata": {},
   "outputs": [],
   "source": [
    "import pandas as pd\n",
    "from io import StringIO\n",
    "import numpy as np"
   ]
  },
  {
   "cell_type": "code",
   "execution_count": 11,
   "metadata": {},
   "outputs": [
    {
     "data": {
      "text/html": [
       "<div>\n",
       "<style scoped>\n",
       "    .dataframe tbody tr th:only-of-type {\n",
       "        vertical-align: middle;\n",
       "    }\n",
       "\n",
       "    .dataframe tbody tr th {\n",
       "        vertical-align: top;\n",
       "    }\n",
       "\n",
       "    .dataframe thead th {\n",
       "        text-align: right;\n",
       "    }\n",
       "</style>\n",
       "<table border=\"1\" class=\"dataframe\">\n",
       "  <thead>\n",
       "    <tr style=\"text-align: right;\">\n",
       "      <th></th>\n",
       "      <th>question</th>\n",
       "      <th>answer</th>\n",
       "    </tr>\n",
       "  </thead>\n",
       "  <tbody>\n",
       "    <tr>\n",
       "      <th>0</th>\n",
       "      <td>Answer 0 if the word 'k' is not a palindrome i...</td>\n",
       "      <td>1</td>\n",
       "    </tr>\n",
       "    <tr>\n",
       "      <th>1</th>\n",
       "      <td>Answer 0 if the word 'j' is not a palindrome i...</td>\n",
       "      <td>1</td>\n",
       "    </tr>\n",
       "    <tr>\n",
       "      <th>2</th>\n",
       "      <td>Answer 0 if the word 'yxy' is not a palindrome...</td>\n",
       "      <td>1</td>\n",
       "    </tr>\n",
       "    <tr>\n",
       "      <th>3</th>\n",
       "      <td>Answer 0 if the word 'g' is not a palindrome i...</td>\n",
       "      <td>1</td>\n",
       "    </tr>\n",
       "    <tr>\n",
       "      <th>4</th>\n",
       "      <td>Answer 0 if the word 'h' is not a palindrome i...</td>\n",
       "      <td>1</td>\n",
       "    </tr>\n",
       "  </tbody>\n",
       "</table>\n",
       "</div>"
      ],
      "text/plain": [
       "                                            question answer\n",
       "0  Answer 0 if the word 'k' is not a palindrome i...      1\n",
       "1  Answer 0 if the word 'j' is not a palindrome i...      1\n",
       "2  Answer 0 if the word 'yxy' is not a palindrome...      1\n",
       "3  Answer 0 if the word 'g' is not a palindrome i...      1\n",
       "4  Answer 0 if the word 'h' is not a palindrome i...      1"
      ]
     },
     "execution_count": 11,
     "metadata": {},
     "output_type": "execute_result"
    }
   ],
   "source": [
    "import string\n",
    "import numpy as np\n",
    "import pandas as pd\n",
    "\n",
    "# a list of 50 palindromes and 50 non-palindromes each randomly generated\n",
    "np.random.seed(42)\n",
    "non_palindromes = [\n",
    "    \"\".join(\n",
    "        np.random.choice(list(string.ascii_lowercase), size=np.random.randint(3, 12))\n",
    "    )\n",
    "    for _ in range(50)\n",
    "]\n",
    "\n",
    "\n",
    "def gen_palindrome(length):\n",
    "    txt = \"\".join(\n",
    "        np.random.choice(\n",
    "            list(string.ascii_lowercase), size=np.random.randint(1, length // 2)\n",
    "        )\n",
    "    )\n",
    "    if np.random.rand() < 0.5:\n",
    "        return txt + txt[::-1]\n",
    "    else:\n",
    "        return txt + txt[::-1][1:]\n",
    "\n",
    "\n",
    "palindromes = [gen_palindrome(np.random.randint(4, 12)) for _ in range(50)]\n",
    "all_words = np.concatenate([palindromes, non_palindromes])\n",
    "\n",
    "\n",
    "def is_palindrome(word):\n",
    "    w = \"\".join(filter(str.isalpha, word)).lower()\n",
    "    return w == w[::-1]\n",
    "\n",
    "\n",
    "questions = [\n",
    "    f\"Answer 0 if the word '{word}' is not a palindrome ignoring non-alphabetic characters, and 1 if it is a palindrome.\"\n",
    "    for word in all_words\n",
    "]\n",
    "answers = [\"0\" if not is_palindrome(word) else \"1\" for word in all_words]\n",
    "df = pd.DataFrame({\"question\": questions, \"answer\": answers})\n",
    "df.to_csv(\"gt_dummy_data.csv\", index=False)\n",
    "df.head()"
   ]
  },
  {
   "cell_type": "code",
   "execution_count": 12,
   "metadata": {},
   "outputs": [],
   "source": [
    "def replace_dummy_data(csv_txt: str, path=\"../lm_eval/tasks/dummy_task/dummy_data.csv\"):\n",
    "    with open(path, \"w\") as f:\n",
    "        f.write(csv_txt)\n",
    "\n",
    "\n",
    "replace_dummy_data(\n",
    "    data[\"openrouter/meta-llama/llama-3.1-8b-instruct\"][\n",
    "        \"palindrome_random.py.TestPalindromeRandom\"\n",
    "    ][-1]\n",
    ")"
   ]
  },
  {
   "cell_type": "code",
   "execution_count": null,
   "metadata": {},
   "outputs": [],
   "source": [
    "df_preview = pd.read_csv(\n",
    "    StringIO(\n",
    "        data[\"openrouter/meta-llama/llama-3.1-8b-instruct\"][\n",
    "            \"palindrome_random.py.TestPalindromeRandom\"\n",
    "        ][-1]\n",
    "    )\n",
    ")\n",
    "# rename string columns to question and answer\n",
    "df_preview.rename(\n",
    "    columns={\"string\": \"question\", \"is_palindrome\": \"answer\"}, inplace=True\n",
    ")\n",
    "\n",
    "# format each question to be a string\n",
    "template = \"Answer 0 if the word '{word}' is not a palindrome ignoring non-alphabetic characters, and 1 if it is a palindrome.\"\n",
    "df_preview[\"question\"] = df_preview[\"question\"].apply(lambda x: template.format(word=x))\n",
    "df_preview.head()\n",
    "\n",
    "replace_dummy_data(df_preview.to_csv(index=False))\n"
   ]
  },
  {
   "cell_type": "code",
   "execution_count": 18,
   "metadata": {},
   "outputs": [
    {
     "name": "stderr",
     "output_type": "stream",
     "text": [
      "2025-05-14:16:25:55 INFO     [__main__:440] Selected Tasks: ['strawberry']\n",
      "2025-05-14:16:25:55 INFO     [evaluator:185] Setting random seed to 0 | Setting numpy seed to 1234 | Setting torch manual seed to 1234 | Setting fewshot manual seed to 1234\n",
      "2025-05-14:16:25:55 INFO     [evaluator:223] Initializing openrouter-chat model, with arguments: {'model': 'meta-llama/llama-3.1-8b-instruct', 'num_concurrent': 64}\n",
      "2025-05-14:16:25:55 WARNING  [models.openai_completions:116] chat-completions endpoint requires the `--apply_chat_template` flag.\n",
      "2025-05-14:16:25:55 INFO     [models.api_models:115] Using max length 2048 - 1\n",
      "2025-05-14:16:25:55 INFO     [models.api_models:133] Using tokenizer None\n",
      "Generating train split: 100 examples [00:00, 32000.49 examples/s]\n",
      "2025-05-14:16:25:55 INFO     [evaluator:286] strawberry: Using gen_kwargs: {'until': ['Question:', '</s>', '<|im_end|>'], 'do_sample': False}\n",
      "2025-05-14:16:25:55 WARNING  [evaluator:461] Chat template formatting change affects loglikelihood and multiple-choice tasks. See docs/chat-template-readme.md for details.\n",
      "2025-05-14:16:25:55 INFO     [api.task:434] Building contexts for strawberry on rank 0...\n",
      "100%|██████████| 100/100 [00:00<00:00, 4494.15it/s]\n",
      "2025-05-14:16:25:56 INFO     [evaluator:559] Running generate_until requests\n",
      "2025-05-14:16:25:56 INFO     [models.api_models:671] Tokenized requests are disabled. Context + generation length is not checked.\n",
      "Requesting API: 100%|██████████| 100/100 [00:14<00:00,  6.99it/s]\n",
      "2025-05-14:16:26:10 INFO     [loggers.evaluation_tracker:209] Saving results aggregated\n"
     ]
    },
    {
     "name": "stdout",
     "output_type": "stream",
     "text": [
      "openrouter-chat (model=meta-llama/llama-3.1-8b-instruct,num_concurrent=64), gen_kwargs: (None), limit: None, num_fewshot: None, batch_size: 1\n",
      "|  Tasks   |Version|     Filter     |n-shot|  Metric   |   |Value|   |Stderr|\n",
      "|----------|------:|----------------|-----:|-----------|---|----:|---|-----:|\n",
      "|strawberry|      1|flexible-extract|     0|exact_match|↑  | 0.64|±  |0.0482|\n",
      "|          |       |strict-match    |     0|exact_match|↑  | 0.01|±  |0.0100|\n",
      "\n"
     ]
    },
    {
     "name": "stderr",
     "output_type": "stream",
     "text": [
      "2025-05-14:16:26:16 INFO     [__main__:440] Selected Tasks: ['strawberry']\n",
      "2025-05-14:16:26:16 INFO     [evaluator:185] Setting random seed to 0 | Setting numpy seed to 1234 | Setting torch manual seed to 1234 | Setting fewshot manual seed to 1234\n",
      "2025-05-14:16:26:16 INFO     [evaluator:223] Initializing openrouter-chat model, with arguments: {'model': 'mistralai/mistral-small-3.1-24b-instruct', 'num_concurrent': 64}\n",
      "2025-05-14:16:26:16 WARNING  [models.openai_completions:116] chat-completions endpoint requires the `--apply_chat_template` flag.\n",
      "2025-05-14:16:26:16 INFO     [models.api_models:115] Using max length 2048 - 1\n",
      "2025-05-14:16:26:16 INFO     [models.api_models:133] Using tokenizer None\n",
      "2025-05-14:16:26:17 INFO     [evaluator:286] strawberry: Using gen_kwargs: {'until': ['Question:', '</s>', '<|im_end|>'], 'do_sample': False}\n",
      "2025-05-14:16:26:17 WARNING  [evaluator:461] Chat template formatting change affects loglikelihood and multiple-choice tasks. See docs/chat-template-readme.md for details.\n",
      "2025-05-14:16:26:17 INFO     [api.task:434] Building contexts for strawberry on rank 0...\n",
      "100%|██████████| 100/100 [00:00<00:00, 4489.15it/s]\n",
      "2025-05-14:16:26:17 INFO     [evaluator:559] Running generate_until requests\n",
      "2025-05-14:16:26:17 INFO     [models.api_models:671] Tokenized requests are disabled. Context + generation length is not checked.\n",
      "Requesting API: 100%|██████████| 100/100 [00:07<00:00, 12.97it/s]\n",
      "2025-05-14:16:26:25 INFO     [loggers.evaluation_tracker:209] Saving results aggregated\n"
     ]
    },
    {
     "name": "stdout",
     "output_type": "stream",
     "text": [
      "openrouter-chat (model=mistralai/mistral-small-3.1-24b-instruct,num_concurrent=64), gen_kwargs: (None), limit: None, num_fewshot: None, batch_size: 1\n",
      "|  Tasks   |Version|     Filter     |n-shot|  Metric   |   |Value|   |Stderr|\n",
      "|----------|------:|----------------|-----:|-----------|---|----:|---|-----:|\n",
      "|strawberry|      1|flexible-extract|     0|exact_match|↑  | 0.92|±  |0.0273|\n",
      "|          |       |strict-match    |     0|exact_match|↑  | 0.00|±  |0.0000|\n",
      "\n"
     ]
    },
    {
     "name": "stderr",
     "output_type": "stream",
     "text": [
      "2025-05-14:16:26:31 INFO     [__main__:440] Selected Tasks: ['strawberry']\n",
      "2025-05-14:16:26:31 INFO     [evaluator:185] Setting random seed to 0 | Setting numpy seed to 1234 | Setting torch manual seed to 1234 | Setting fewshot manual seed to 1234\n",
      "2025-05-14:16:26:31 INFO     [evaluator:223] Initializing openrouter-chat model, with arguments: {'model': 'meta-llama/llama-3.3-70b-instruct', 'num_concurrent': 64}\n",
      "2025-05-14:16:26:31 WARNING  [models.openai_completions:116] chat-completions endpoint requires the `--apply_chat_template` flag.\n",
      "2025-05-14:16:26:31 INFO     [models.api_models:115] Using max length 2048 - 1\n",
      "2025-05-14:16:26:31 INFO     [models.api_models:133] Using tokenizer None\n",
      "2025-05-14:16:26:32 INFO     [evaluator:286] strawberry: Using gen_kwargs: {'until': ['Question:', '</s>', '<|im_end|>'], 'do_sample': False}\n",
      "2025-05-14:16:26:32 WARNING  [evaluator:461] Chat template formatting change affects loglikelihood and multiple-choice tasks. See docs/chat-template-readme.md for details.\n",
      "2025-05-14:16:26:32 INFO     [api.task:434] Building contexts for strawberry on rank 0...\n",
      "100%|██████████| 100/100 [00:00<00:00, 4666.14it/s]\n",
      "2025-05-14:16:26:32 INFO     [evaluator:559] Running generate_until requests\n",
      "2025-05-14:16:26:32 INFO     [models.api_models:671] Tokenized requests are disabled. Context + generation length is not checked.\n",
      "Requesting API: 100%|██████████| 100/100 [00:18<00:00,  5.54it/s]\n",
      "2025-05-14:16:26:50 INFO     [loggers.evaluation_tracker:209] Saving results aggregated\n"
     ]
    },
    {
     "name": "stdout",
     "output_type": "stream",
     "text": [
      "openrouter-chat (model=meta-llama/llama-3.3-70b-instruct,num_concurrent=64), gen_kwargs: (None), limit: None, num_fewshot: None, batch_size: 1\n",
      "|  Tasks   |Version|     Filter     |n-shot|  Metric   |   |Value|   |Stderr|\n",
      "|----------|------:|----------------|-----:|-----------|---|----:|---|-----:|\n",
      "|strawberry|      1|flexible-extract|     0|exact_match|↑  | 0.93|±  |0.0256|\n",
      "|          |       |strict-match    |     0|exact_match|↑  | 0.06|±  |0.0239|\n",
      "\n"
     ]
    },
    {
     "name": "stderr",
     "output_type": "stream",
     "text": [
      "2025-05-14:16:26:57 INFO     [__main__:440] Selected Tasks: ['strawberry']\n",
      "2025-05-14:16:26:57 INFO     [evaluator:185] Setting random seed to 0 | Setting numpy seed to 1234 | Setting torch manual seed to 1234 | Setting fewshot manual seed to 1234\n",
      "2025-05-14:16:26:57 INFO     [evaluator:223] Initializing openrouter-chat model, with arguments: {'model': 'qwen/qwen3-235b-a22b', 'num_concurrent': 64}\n",
      "2025-05-14:16:26:57 WARNING  [models.openai_completions:116] chat-completions endpoint requires the `--apply_chat_template` flag.\n",
      "2025-05-14:16:26:57 INFO     [models.api_models:115] Using max length 2048 - 1\n",
      "2025-05-14:16:26:57 INFO     [models.api_models:133] Using tokenizer None\n",
      "2025-05-14:16:26:57 INFO     [evaluator:286] strawberry: Using gen_kwargs: {'until': ['Question:', '</s>', '<|im_end|>'], 'do_sample': False}\n",
      "2025-05-14:16:26:57 WARNING  [evaluator:461] Chat template formatting change affects loglikelihood and multiple-choice tasks. See docs/chat-template-readme.md for details.\n",
      "2025-05-14:16:26:57 INFO     [api.task:434] Building contexts for strawberry on rank 0...\n",
      "100%|██████████| 100/100 [00:00<00:00, 4485.50it/s]\n",
      "2025-05-14:16:26:57 INFO     [evaluator:559] Running generate_until requests\n",
      "2025-05-14:16:26:57 INFO     [models.api_models:671] Tokenized requests are disabled. Context + generation length is not checked.\n",
      "Requesting API: 100%|██████████| 100/100 [00:20<00:00,  4.95it/s]\n",
      "2025-05-14:16:27:17 INFO     [loggers.evaluation_tracker:209] Saving results aggregated\n"
     ]
    },
    {
     "name": "stdout",
     "output_type": "stream",
     "text": [
      "openrouter-chat (model=qwen/qwen3-235b-a22b,num_concurrent=64), gen_kwargs: (None), limit: None, num_fewshot: None, batch_size: 1\n",
      "|  Tasks   |Version|     Filter     |n-shot|  Metric   |   |Value|   |Stderr|\n",
      "|----------|------:|----------------|-----:|-----------|---|----:|---|-----:|\n",
      "|strawberry|      1|flexible-extract|     0|exact_match|↑  |    0|±  |     0|\n",
      "|          |       |strict-match    |     0|exact_match|↑  |    0|±  |     0|\n",
      "\n"
     ]
    },
    {
     "name": "stderr",
     "output_type": "stream",
     "text": [
      "2025-05-14:16:27:24 INFO     [__main__:440] Selected Tasks: ['strawberry']\n",
      "2025-05-14:16:27:24 INFO     [evaluator:185] Setting random seed to 0 | Setting numpy seed to 1234 | Setting torch manual seed to 1234 | Setting fewshot manual seed to 1234\n",
      "2025-05-14:16:27:24 INFO     [evaluator:223] Initializing openrouter-chat model, with arguments: {'model': 'deepseek/deepseek-chat-v3-0324', 'num_concurrent': 64}\n",
      "2025-05-14:16:27:24 WARNING  [models.openai_completions:116] chat-completions endpoint requires the `--apply_chat_template` flag.\n",
      "2025-05-14:16:27:24 INFO     [models.api_models:115] Using max length 2048 - 1\n",
      "2025-05-14:16:27:24 INFO     [models.api_models:133] Using tokenizer None\n",
      "2025-05-14:16:27:24 INFO     [evaluator:286] strawberry: Using gen_kwargs: {'until': ['Question:', '</s>', '<|im_end|>'], 'do_sample': False}\n",
      "2025-05-14:16:27:24 WARNING  [evaluator:461] Chat template formatting change affects loglikelihood and multiple-choice tasks. See docs/chat-template-readme.md for details.\n",
      "2025-05-14:16:27:24 INFO     [api.task:434] Building contexts for strawberry on rank 0...\n",
      "100%|██████████| 100/100 [00:00<00:00, 4854.35it/s]\n",
      "2025-05-14:16:27:24 INFO     [evaluator:559] Running generate_until requests\n",
      "2025-05-14:16:27:24 INFO     [models.api_models:671] Tokenized requests are disabled. Context + generation length is not checked.\n",
      "Requesting API: 100%|██████████| 100/100 [00:36<00:00,  2.76it/s]\n",
      "2025-05-14:16:28:00 INFO     [loggers.evaluation_tracker:209] Saving results aggregated\n"
     ]
    },
    {
     "name": "stdout",
     "output_type": "stream",
     "text": [
      "openrouter-chat (model=deepseek/deepseek-chat-v3-0324,num_concurrent=64), gen_kwargs: (None), limit: None, num_fewshot: None, batch_size: 1\n",
      "|  Tasks   |Version|     Filter     |n-shot|  Metric   |   |Value|   |Stderr|\n",
      "|----------|------:|----------------|-----:|-----------|---|----:|---|-----:|\n",
      "|strawberry|      1|flexible-extract|     0|exact_match|↑  | 0.29|±  |0.0456|\n",
      "|          |       |strict-match    |     0|exact_match|↑  | 0.11|±  |0.0314|\n",
      "\n"
     ]
    }
   ],
   "source": [
    "%%bash\n",
    "cd ..\n",
    "for model in \"meta-llama/llama-3.1-8b-instruct\" \"mistralai/mistral-small-3.1-24b-instruct\" \"meta-llama/llama-3.3-70b-instruct\" \"qwen/qwen3-235b-a22b\" \"deepseek/deepseek-chat-v3-0324\"; do\n",
    "    OPENAI_API_KEY=$OPENROUTER_API_KEY lm_eval --model openrouter-chat \\\n",
    "        --model_args model=$model,num_concurrent=64 \\\n",
    "        --tasks strawberry \\\n",
    "        --apply_chat_template \\\n",
    "        --output_path experimental-notebooks/palindrome-random-results-data=llama-3.1-8b-instruct\n",
    "done"
   ]
  },
  {
   "cell_type": "code",
   "execution_count": 19,
   "metadata": {},
   "outputs": [],
   "source": [
    "# upload the gt data\n",
    "replace_dummy_data(df.to_csv(index=False))"
   ]
  },
  {
   "cell_type": "code",
   "execution_count": 20,
   "metadata": {},
   "outputs": [
    {
     "name": "stderr",
     "output_type": "stream",
     "text": [
      "2025-05-14:16:28:06 INFO     [__main__:440] Selected Tasks: ['strawberry']\n",
      "2025-05-14:16:28:06 INFO     [evaluator:185] Setting random seed to 0 | Setting numpy seed to 1234 | Setting torch manual seed to 1234 | Setting fewshot manual seed to 1234\n",
      "2025-05-14:16:28:06 INFO     [evaluator:223] Initializing openrouter-chat model, with arguments: {'model': 'meta-llama/llama-3.1-8b-instruct', 'num_concurrent': 64}\n",
      "2025-05-14:16:28:06 WARNING  [models.openai_completions:116] chat-completions endpoint requires the `--apply_chat_template` flag.\n",
      "2025-05-14:16:28:06 INFO     [models.api_models:115] Using max length 2048 - 1\n",
      "2025-05-14:16:28:06 INFO     [models.api_models:133] Using tokenizer None\n",
      "Generating train split: 100 examples [00:00, 27225.13 examples/s]\n",
      "2025-05-14:16:28:07 INFO     [evaluator:286] strawberry: Using gen_kwargs: {'until': ['Question:', '</s>', '<|im_end|>'], 'do_sample': False}\n",
      "2025-05-14:16:28:07 WARNING  [evaluator:461] Chat template formatting change affects loglikelihood and multiple-choice tasks. See docs/chat-template-readme.md for details.\n",
      "2025-05-14:16:28:07 INFO     [api.task:434] Building contexts for strawberry on rank 0...\n",
      "100%|██████████| 100/100 [00:00<00:00, 4420.50it/s]\n",
      "2025-05-14:16:28:07 INFO     [evaluator:559] Running generate_until requests\n",
      "2025-05-14:16:28:07 INFO     [models.api_models:671] Tokenized requests are disabled. Context + generation length is not checked.\n",
      "Requesting API: 100%|██████████| 100/100 [00:14<00:00,  6.85it/s]\n",
      "2025-05-14:16:28:22 INFO     [loggers.evaluation_tracker:209] Saving results aggregated\n"
     ]
    },
    {
     "name": "stdout",
     "output_type": "stream",
     "text": [
      "openrouter-chat (model=meta-llama/llama-3.1-8b-instruct,num_concurrent=64), gen_kwargs: (None), limit: None, num_fewshot: None, batch_size: 1\n",
      "|  Tasks   |Version|     Filter     |n-shot|  Metric   |   |Value|   |Stderr|\n",
      "|----------|------:|----------------|-----:|-----------|---|----:|---|-----:|\n",
      "|strawberry|      1|flexible-extract|     0|exact_match|↑  | 0.89|±  |0.0314|\n",
      "|          |       |strict-match    |     0|exact_match|↑  | 0.01|±  |0.0100|\n",
      "\n"
     ]
    },
    {
     "name": "stderr",
     "output_type": "stream",
     "text": [
      "2025-05-14:16:28:28 INFO     [__main__:440] Selected Tasks: ['strawberry']\n",
      "2025-05-14:16:28:28 INFO     [evaluator:185] Setting random seed to 0 | Setting numpy seed to 1234 | Setting torch manual seed to 1234 | Setting fewshot manual seed to 1234\n",
      "2025-05-14:16:28:28 INFO     [evaluator:223] Initializing openrouter-chat model, with arguments: {'model': 'mistralai/mistral-small-3.1-24b-instruct', 'num_concurrent': 64}\n",
      "2025-05-14:16:28:28 WARNING  [models.openai_completions:116] chat-completions endpoint requires the `--apply_chat_template` flag.\n",
      "2025-05-14:16:28:28 INFO     [models.api_models:115] Using max length 2048 - 1\n",
      "2025-05-14:16:28:28 INFO     [models.api_models:133] Using tokenizer None\n",
      "2025-05-14:16:28:29 INFO     [evaluator:286] strawberry: Using gen_kwargs: {'until': ['Question:', '</s>', '<|im_end|>'], 'do_sample': False}\n",
      "2025-05-14:16:28:29 WARNING  [evaluator:461] Chat template formatting change affects loglikelihood and multiple-choice tasks. See docs/chat-template-readme.md for details.\n",
      "2025-05-14:16:28:29 INFO     [api.task:434] Building contexts for strawberry on rank 0...\n",
      "100%|██████████| 100/100 [00:00<00:00, 4528.02it/s]\n",
      "2025-05-14:16:28:29 INFO     [evaluator:559] Running generate_until requests\n",
      "2025-05-14:16:28:29 INFO     [models.api_models:671] Tokenized requests are disabled. Context + generation length is not checked.\n",
      "Requesting API: 100%|██████████| 100/100 [00:05<00:00, 19.58it/s]\n",
      "2025-05-14:16:28:34 INFO     [loggers.evaluation_tracker:209] Saving results aggregated\n"
     ]
    },
    {
     "name": "stdout",
     "output_type": "stream",
     "text": [
      "openrouter-chat (model=mistralai/mistral-small-3.1-24b-instruct,num_concurrent=64), gen_kwargs: (None), limit: None, num_fewshot: None, batch_size: 1\n",
      "|  Tasks   |Version|     Filter     |n-shot|  Metric   |   |Value|   |Stderr|\n",
      "|----------|------:|----------------|-----:|-----------|---|----:|---|-----:|\n",
      "|strawberry|      1|flexible-extract|     0|exact_match|↑  |    1|±  |     0|\n",
      "|          |       |strict-match    |     0|exact_match|↑  |    0|±  |     0|\n",
      "\n"
     ]
    },
    {
     "name": "stderr",
     "output_type": "stream",
     "text": [
      "2025-05-14:16:28:40 INFO     [__main__:440] Selected Tasks: ['strawberry']\n",
      "2025-05-14:16:28:40 INFO     [evaluator:185] Setting random seed to 0 | Setting numpy seed to 1234 | Setting torch manual seed to 1234 | Setting fewshot manual seed to 1234\n",
      "2025-05-14:16:28:40 INFO     [evaluator:223] Initializing openrouter-chat model, with arguments: {'model': 'meta-llama/llama-3.3-70b-instruct', 'num_concurrent': 64}\n",
      "2025-05-14:16:28:40 WARNING  [models.openai_completions:116] chat-completions endpoint requires the `--apply_chat_template` flag.\n",
      "2025-05-14:16:28:40 INFO     [models.api_models:115] Using max length 2048 - 1\n",
      "2025-05-14:16:28:40 INFO     [models.api_models:133] Using tokenizer None\n",
      "2025-05-14:16:28:40 INFO     [evaluator:286] strawberry: Using gen_kwargs: {'until': ['Question:', '</s>', '<|im_end|>'], 'do_sample': False}\n",
      "2025-05-14:16:28:40 WARNING  [evaluator:461] Chat template formatting change affects loglikelihood and multiple-choice tasks. See docs/chat-template-readme.md for details.\n",
      "2025-05-14:16:28:40 INFO     [api.task:434] Building contexts for strawberry on rank 0...\n",
      "100%|██████████| 100/100 [00:00<00:00, 4738.90it/s]\n",
      "2025-05-14:16:28:40 INFO     [evaluator:559] Running generate_until requests\n",
      "2025-05-14:16:28:40 INFO     [models.api_models:671] Tokenized requests are disabled. Context + generation length is not checked.\n",
      "Requesting API: 100%|██████████| 100/100 [00:12<00:00,  8.27it/s]\n",
      "2025-05-14:16:28:52 INFO     [loggers.evaluation_tracker:209] Saving results aggregated\n"
     ]
    },
    {
     "name": "stdout",
     "output_type": "stream",
     "text": [
      "openrouter-chat (model=meta-llama/llama-3.3-70b-instruct,num_concurrent=64), gen_kwargs: (None), limit: None, num_fewshot: None, batch_size: 1\n",
      "|  Tasks   |Version|     Filter     |n-shot|  Metric   |   |Value|   |Stderr|\n",
      "|----------|------:|----------------|-----:|-----------|---|----:|---|-----:|\n",
      "|strawberry|      1|flexible-extract|     0|exact_match|↑  | 0.97|±  |0.0171|\n",
      "|          |       |strict-match    |     0|exact_match|↑  | 0.12|±  |0.0327|\n",
      "\n"
     ]
    },
    {
     "name": "stderr",
     "output_type": "stream",
     "text": [
      "2025-05-14:16:28:59 INFO     [__main__:440] Selected Tasks: ['strawberry']\n",
      "2025-05-14:16:28:59 INFO     [evaluator:185] Setting random seed to 0 | Setting numpy seed to 1234 | Setting torch manual seed to 1234 | Setting fewshot manual seed to 1234\n",
      "2025-05-14:16:28:59 INFO     [evaluator:223] Initializing openrouter-chat model, with arguments: {'model': 'qwen/qwen3-235b-a22b', 'num_concurrent': 64}\n",
      "2025-05-14:16:28:59 WARNING  [models.openai_completions:116] chat-completions endpoint requires the `--apply_chat_template` flag.\n",
      "2025-05-14:16:28:59 INFO     [models.api_models:115] Using max length 2048 - 1\n",
      "2025-05-14:16:28:59 INFO     [models.api_models:133] Using tokenizer None\n",
      "2025-05-14:16:29:00 INFO     [evaluator:286] strawberry: Using gen_kwargs: {'until': ['Question:', '</s>', '<|im_end|>'], 'do_sample': False}\n",
      "2025-05-14:16:29:00 WARNING  [evaluator:461] Chat template formatting change affects loglikelihood and multiple-choice tasks. See docs/chat-template-readme.md for details.\n",
      "2025-05-14:16:29:00 INFO     [api.task:434] Building contexts for strawberry on rank 0...\n",
      "100%|██████████| 100/100 [00:00<00:00, 1409.78it/s]\n",
      "2025-05-14:16:29:00 INFO     [evaluator:559] Running generate_until requests\n",
      "2025-05-14:16:29:00 INFO     [models.api_models:671] Tokenized requests are disabled. Context + generation length is not checked.\n",
      "Requesting API: 100%|██████████| 100/100 [00:21<00:00,  4.67it/s]\n",
      "2025-05-14:16:29:22 INFO     [loggers.evaluation_tracker:209] Saving results aggregated\n"
     ]
    },
    {
     "name": "stdout",
     "output_type": "stream",
     "text": [
      "openrouter-chat (model=qwen/qwen3-235b-a22b,num_concurrent=64), gen_kwargs: (None), limit: None, num_fewshot: None, batch_size: 1\n",
      "|  Tasks   |Version|     Filter     |n-shot|  Metric   |   |Value|   |Stderr|\n",
      "|----------|------:|----------------|-----:|-----------|---|----:|---|-----:|\n",
      "|strawberry|      1|flexible-extract|     0|exact_match|↑  |    0|±  |     0|\n",
      "|          |       |strict-match    |     0|exact_match|↑  |    0|±  |     0|\n",
      "\n"
     ]
    },
    {
     "name": "stderr",
     "output_type": "stream",
     "text": [
      "2025-05-14:16:29:30 INFO     [__main__:440] Selected Tasks: ['strawberry']\n",
      "2025-05-14:16:29:30 INFO     [evaluator:185] Setting random seed to 0 | Setting numpy seed to 1234 | Setting torch manual seed to 1234 | Setting fewshot manual seed to 1234\n",
      "2025-05-14:16:29:30 INFO     [evaluator:223] Initializing openrouter-chat model, with arguments: {'model': 'deepseek/deepseek-chat-v3-0324', 'num_concurrent': 64}\n",
      "2025-05-14:16:29:30 WARNING  [models.openai_completions:116] chat-completions endpoint requires the `--apply_chat_template` flag.\n",
      "2025-05-14:16:29:30 INFO     [models.api_models:115] Using max length 2048 - 1\n",
      "2025-05-14:16:29:30 INFO     [models.api_models:133] Using tokenizer None\n",
      "2025-05-14:16:29:30 INFO     [evaluator:286] strawberry: Using gen_kwargs: {'until': ['Question:', '</s>', '<|im_end|>'], 'do_sample': False}\n",
      "2025-05-14:16:29:30 WARNING  [evaluator:461] Chat template formatting change affects loglikelihood and multiple-choice tasks. See docs/chat-template-readme.md for details.\n",
      "2025-05-14:16:29:30 INFO     [api.task:434] Building contexts for strawberry on rank 0...\n",
      "100%|██████████| 100/100 [00:00<00:00, 4521.82it/s]\n",
      "2025-05-14:16:29:30 INFO     [evaluator:559] Running generate_until requests\n",
      "2025-05-14:16:29:30 INFO     [models.api_models:671] Tokenized requests are disabled. Context + generation length is not checked.\n",
      "Requesting API: 100%|██████████| 100/100 [01:22<00:00,  1.21it/s]\n",
      "2025-05-14:16:30:53 INFO     [loggers.evaluation_tracker:209] Saving results aggregated\n"
     ]
    },
    {
     "name": "stdout",
     "output_type": "stream",
     "text": [
      "openrouter-chat (model=deepseek/deepseek-chat-v3-0324,num_concurrent=64), gen_kwargs: (None), limit: None, num_fewshot: None, batch_size: 1\n",
      "|  Tasks   |Version|     Filter     |n-shot|  Metric   |   |Value|   |Stderr|\n",
      "|----------|------:|----------------|-----:|-----------|---|----:|---|-----:|\n",
      "|strawberry|      1|flexible-extract|     0|exact_match|↑  | 0.65|±  |0.0479|\n",
      "|          |       |strict-match    |     0|exact_match|↑  | 0.06|±  |0.0239|\n",
      "\n"
     ]
    }
   ],
   "source": [
    "%%bash\n",
    "cd ..\n",
    "for model in \"meta-llama/llama-3.1-8b-instruct\" \"mistralai/mistral-small-3.1-24b-instruct\" \"meta-llama/llama-3.3-70b-instruct\" \"qwen/qwen3-235b-a22b\" \"deepseek/deepseek-chat-v3-0324\"; do\n",
    "    OPENAI_API_KEY=$OPENROUTER_API_KEY lm_eval --model openrouter-chat \\\n",
    "        --model_args model=$model,num_concurrent=64 \\\n",
    "        --tasks strawberry \\\n",
    "        --apply_chat_template \\\n",
    "        --output_path experimental-notebooks/palindrome-random-results-data=gt\n",
    "done"
   ]
  },
  {
   "cell_type": "code",
   "execution_count": 31,
   "metadata": {},
   "outputs": [
    {
     "data": {
      "text/plain": [
       "[<matplotlib.lines.Line2D at 0x129a51ee0>]"
      ]
     },
     "execution_count": 31,
     "metadata": {},
     "output_type": "execute_result"
    },
    {
     "data": {
      "image/png": "[encoded data removed]",
      "text/plain": [
       "<Figure size 1500x500 with 3 Axes>"
      ]
     },
     "metadata": {},
     "output_type": "display_data"
    }
   ],
   "source": [
    "import matplotlib.pyplot as plt\n",
    "\n",
    "synthetic_results = {\n",
    "    \"Llama 3.1 8B\": 0.64,\n",
    "    \"Llama 3.3 70B\": 0.93,\n",
    "    \"Mistral 24B\": 0.92,\n",
    "    \"Qwen 235B\": 0.0,\n",
    "    \"DeepSeek 324\": 0.29,\n",
    "}\n",
    "gt_results = {\n",
    "    \"Llama 3.1 8B\": 0.89,\n",
    "    \"Llama 3.3 70B\": 0.97,\n",
    "    \"Mistral 24B\": 1.0,\n",
    "    \"Qwen 235B\": 0.0,\n",
    "    \"DeepSeek 324\": 0.65,\n",
    "}\n",
    "\n",
    "background_color = \"#FFFFFF\"\n",
    "text_and_border_color = \"#384039\"\n",
    "model_colors = {\n",
    "    \"Llama 3.1 8B\": \"#DEC5E6\",\n",
    "    \"Llama 3.3 70B\": \"#AA62C0\",\n",
    "    \"Mistral 24B\": \"#E54F4F\",\n",
    "    \"Qwen 235B\": \"#176440\",\n",
    "    \"DeepSeek 324\": \"#E57C4F\",\n",
    "}\n",
    "\n",
    "# make a plot of 2 bar charts then a scatter plot\n",
    "fig, axs = plt.subplots(1, 3, figsize=(15, 5))\n",
    "fig.set_facecolor(background_color)\n",
    "\n",
    "for i in range(3):\n",
    "    axs[i].set_facecolor(background_color)\n",
    "    axs[i].tick_params(axis=\"x\", rotation=45, width=2)\n",
    "    axs[i].tick_params(axis=\"y\", width=2)\n",
    "    axs[i].spines[\"top\"].set_linewidth(2)\n",
    "    axs[i].spines[\"right\"].set_linewidth(2)\n",
    "    axs[i].spines[\"bottom\"].set_linewidth(2)\n",
    "    axs[i].spines[\"left\"].set_linewidth(2)\n",
    "    axs[i].spines[\"top\"].set_color(text_and_border_color)\n",
    "    axs[i].spines[\"right\"].set_color(text_and_border_color)\n",
    "    axs[i].spines[\"bottom\"].set_color(text_and_border_color)\n",
    "    axs[i].spines[\"left\"].set_color(text_and_border_color)\n",
    "\n",
    "# plot the synthetic results\n",
    "axs[0].bar(\n",
    "    synthetic_results.keys(),\n",
    "    synthetic_results.values(),\n",
    "    color=list(model_colors.values()),\n",
    ")\n",
    "axs[0].set_box_aspect(1)\n",
    "axs[0].set_title(\"Synthetic Results\", color=text_and_border_color)\n",
    "axs[0].set_xlabel(\"Model\", color=text_and_border_color)\n",
    "axs[0].set_ylabel(\"Accuracy\", color=text_and_border_color)\n",
    "\n",
    "\n",
    "# plot the gt results\n",
    "axs[1].bar(gt_results.keys(), gt_results.values(), color=list(model_colors.values()))\n",
    "axs[1].set_box_aspect(1)\n",
    "axs[1].set_title(\"GT Results\", color=text_and_border_color)\n",
    "axs[1].set_xlabel(\"Model\", color=text_and_border_color)\n",
    "axs[1].set_ylabel(\"Accuracy\", color=text_and_border_color)\n",
    "\n",
    "# plot the scatter plot\n",
    "axs[2].scatter(\n",
    "    synthetic_results.values(),\n",
    "    gt_results.values(),\n",
    "    color=list(model_colors.values()),\n",
    "    s=200,\n",
    ")\n",
    "axs[2].set_box_aspect(1)\n",
    "axs[2].set_title(\"Scatter Plot of Synthetic vs GT Results\", color=text_and_border_color)\n",
    "axs[2].set_xlabel(\"Synthetic Accuracy\", color=text_and_border_color)\n",
    "axs[2].set_ylabel(\"GT Accuracy\", color=text_and_border_color)\n",
    "# plot y=x line\n",
    "axs[2].plot([0, 1], [0, 1], color=\"lightgray\", linewidth=4, linestyle=\"--\", zorder=0)"
   ]
  },
  {
   "cell_type": "code",
   "execution_count": 25,
   "metadata": {},
   "outputs": [
    {
     "name": "stdout",
     "output_type": "stream",
     "text": [
      "SignificanceResult(statistic=np.float64(0.8999999999999998), pvalue=np.float64(0.03738607346849875))\n"
     ]
    }
   ],
   "source": [
    "# calculate spearman's rank correlation coefficient\n",
    "from scipy.stats import spearmanr\n",
    "\n",
    "spearman_corr = spearmanr(list(synthetic_results.values()), list(gt_results.values()))\n",
    "print(spearman_corr)\n"
   ]
  },
  {
   "cell_type": "code",
   "execution_count": null,
   "metadata": {},
   "outputs": [],
   "source": []
  }
 ],
 "metadata": {
  "kernelspec": {
   "display_name": "lm-harness",
   "language": "python",
   "name": "python3"
  },
  "language_info": {
   "codemirror_mode": {
    "name": "ipython",
    "version": 3
   },
   "file_extension": ".py",
   "mimetype": "text/x-python",
   "name": "python",
   "nbconvert_exporter": "python",
   "pygments_lexer": "ipython3",
   "version": "3.9.16"
  }
 },
 "nbformat": 4,
 "nbformat_minor": 2
}
