{
 "cells": [
  {
   "cell_type": "code",
   "execution_count": 1,
   "metadata": {},
   "outputs": [],
   "source": [
    "import json\n",
    "from pprint import pprint"
   ]
  },
  {
   "cell_type": "code",
   "execution_count": 2,
   "metadata": {},
   "outputs": [],
   "source": [
    "with open(\"successful_csvs.json\") as f:\n",
    "    data = json.load(f)"
   ]
  },
  {
   "cell_type": "code",
   "execution_count": 3,
   "metadata": {},
   "outputs": [
    {
     "name": "stdout",
     "output_type": "stream",
     "text": [
      "openrouter/anthropic/claude-3.7-sonnet strawberry.py.TestStrawberry 5\n",
      "openrouter/meta-llama/llama-3.1-8b-instruct strawberry.py.TestStrawberry 3\n"
     ]
    }
   ],
   "source": [
    "for key in data:\n",
    "    for item in data[key]:\n",
    "        print(key, item, len(data[key][item]))\n"
   ]
  },
  {
   "cell_type": "code",
   "execution_count": 6,
   "metadata": {},
   "outputs": [],
   "source": [
    "import pandas as pd\n",
    "from io import StringIO\n",
    "import numpy as np"
   ]
  },
  {
   "cell_type": "code",
   "execution_count": null,
   "metadata": {},
   "outputs": [
    {
     "data": {
      "text/html": [
       "<div>\n",
       "<style scoped>\n",
       "    .dataframe tbody tr th:only-of-type {\n",
       "        vertical-align: middle;\n",
       "    }\n",
       "\n",
       "    .dataframe tbody tr th {\n",
       "        vertical-align: top;\n",
       "    }\n",
       "\n",
       "    .dataframe thead th {\n",
       "        text-align: right;\n",
       "    }\n",
       "</style>\n",
       "<table border=\"1\" class=\"dataframe\">\n",
       "  <thead>\n",
       "    <tr style=\"text-align: right;\">\n",
       "      <th></th>\n",
       "      <th>question</th>\n",
       "      <th>answer</th>\n",
       "    </tr>\n",
       "  </thead>\n",
       "  <tbody>\n",
       "    <tr>\n",
       "      <th>0</th>\n",
       "      <td>How many times does the letter 'a' appear in t...</td>\n",
       "      <td>1</td>\n",
       "    </tr>\n",
       "    <tr>\n",
       "      <th>1</th>\n",
       "      <td>How many times does the letter 'n' appear in t...</td>\n",
       "      <td>1</td>\n",
       "    </tr>\n",
       "    <tr>\n",
       "      <th>2</th>\n",
       "      <td>How many times does the letter 'n' appear in t...</td>\n",
       "      <td>1</td>\n",
       "    </tr>\n",
       "    <tr>\n",
       "      <th>3</th>\n",
       "      <td>How many times does the letter 'a' appear in t...</td>\n",
       "      <td>1</td>\n",
       "    </tr>\n",
       "    <tr>\n",
       "      <th>4</th>\n",
       "      <td>How many times does the letter 't' appear in t...</td>\n",
       "      <td>1</td>\n",
       "    </tr>\n",
       "  </tbody>\n",
       "</table>\n",
       "</div>"
      ],
      "text/plain": [
       "                                            question answer\n",
       "0  How many times does the letter 'a' appear in t...      1\n",
       "1  How many times does the letter 'n' appear in t...      1\n",
       "2  How many times does the letter 'n' appear in t...      1\n",
       "3  How many times does the letter 'a' appear in t...      1\n",
       "4  How many times does the letter 't' appear in t...      1"
      ]
     },
     "execution_count": 10,
     "metadata": {},
     "output_type": "execute_result"
    }
   ],
   "source": [
    "import string\n",
    "\n",
    "# generate groundtruth palindrome data\n",
    "words = np.loadtxt(\"wordlist.10000.txt\", dtype=str)\n",
    "palindromes_df = pd.read_csv(\"palindromes.txt\")\n",
    "\n",
    "\n",
    "def is_palindrome(word):\n",
    "    w = \"\".join(filter(str.isalpha, word)).lower()\n",
    "    return w == w[::-1]\n",
    "\n",
    "\n",
    "np.random.seed(42)\n",
    "# sample 50 normal words\n",
    "normal_words = np.random.choice(words, size=50, replace=False)\n",
    "# sample 25 of the palindromes to adversarially perturb\n",
    "perturbed_palindromes = np.random.choice(\n",
    "    palindromes_df[\"word\"].tolist(), size=25, replace=False\n",
    ")\n",
    "rest_of_palindromes = np.setdiff1d(\n",
    "    palindromes_df[\"word\"].tolist(), perturbed_palindromes\n",
    ")\n",
    "\n",
    "# swap 1 character in the adversarial palindromes with a random character\n",
    "perturbed_palindromes = [list(p) for p in perturbed_palindromes]\n",
    "for p in perturbed_palindromes:\n",
    "    i = np.random.randint(0, len(p))\n",
    "    p[i] = np.random.choice(string.ascii_lowercase)\n",
    "    p = \"\".join(p)\n",
    "\n",
    "all_words = np.concatenate([normal_words, perturbed_palindromes, rest_of_palindromes])\n",
    "\n",
    "\n",
    "questions = [\n",
    "    f\"Answer 0 if the word '{word}' is not a palindrome ignoring non-alphabetic characters, and 1 if it is a palindrome.\"\n",
    "    for word in all_words\n",
    "]\n",
    "answers = [\"0\" if not is_palindrome(word) else \"1\" for word in all_words]\n",
    "df = pd.DataFrame({\"question\": questions, \"answer\": answers})\n",
    "df.to_csv(\"gt_dummy_data.csv\", index=False)\n",
    "df.head()"
   ]
  },
  {
   "cell_type": "code",
   "execution_count": 13,
   "metadata": {},
   "outputs": [
    {
     "data": {
      "text/html": [
       "<div>\n",
       "<style scoped>\n",
       "    .dataframe tbody tr th:only-of-type {\n",
       "        vertical-align: middle;\n",
       "    }\n",
       "\n",
       "    .dataframe tbody tr th {\n",
       "        vertical-align: top;\n",
       "    }\n",
       "\n",
       "    .dataframe thead th {\n",
       "        text-align: right;\n",
       "    }\n",
       "</style>\n",
       "<table border=\"1\" class=\"dataframe\">\n",
       "  <thead>\n",
       "    <tr style=\"text-align: right;\">\n",
       "      <th></th>\n",
       "      <th>question</th>\n",
       "      <th>answer</th>\n",
       "    </tr>\n",
       "  </thead>\n",
       "  <tbody>\n",
       "    <tr>\n",
       "      <th>0</th>\n",
       "      <td>How many times does the letter 'a' appear in t...</td>\n",
       "      <td>3</td>\n",
       "    </tr>\n",
       "    <tr>\n",
       "      <th>1</th>\n",
       "      <td>How many times does the letter 'b' appear in t...</td>\n",
       "      <td>1</td>\n",
       "    </tr>\n",
       "    <tr>\n",
       "      <th>2</th>\n",
       "      <td>How many times does the letter 'n' appear in t...</td>\n",
       "      <td>2</td>\n",
       "    </tr>\n",
       "    <tr>\n",
       "      <th>3</th>\n",
       "      <td>How many times does the letter 'a' appear in t...</td>\n",
       "      <td>4</td>\n",
       "    </tr>\n",
       "    <tr>\n",
       "      <th>4</th>\n",
       "      <td>How many times does the letter 'b' appear in t...</td>\n",
       "      <td>1</td>\n",
       "    </tr>\n",
       "  </tbody>\n",
       "</table>\n",
       "</div>"
      ],
      "text/plain": [
       "                                            question  answer\n",
       "0  How many times does the letter 'a' appear in t...       3\n",
       "1  How many times does the letter 'b' appear in t...       1\n",
       "2  How many times does the letter 'n' appear in t...       2\n",
       "3  How many times does the letter 'a' appear in t...       4\n",
       "4  How many times does the letter 'b' appear in t...       1"
      ]
     },
     "execution_count": 13,
     "metadata": {},
     "output_type": "execute_result"
    }
   ],
   "source": [
    "df = pd.read_csv(\n",
    "    StringIO(\n",
    "        data[\"openrouter/meta-llama/llama-3.1-8b-instruct\"][\n",
    "            \"strawberry.py.TestStrawberry\"\n",
    "        ][-1]\n",
    "    )\n",
    ")\n",
    "df.head()"
   ]
  },
  {
   "cell_type": "code",
   "execution_count": 13,
   "metadata": {},
   "outputs": [],
   "source": [
    "def replace_dummy_data(csv_txt: str, path=\"../lm_eval/tasks/dummy_task/dummy_data.csv\"):\n",
    "    with open(path, \"w\") as f:\n",
    "        f.write(csv_txt)\n",
    "\n",
    "\n",
    "replace_dummy_data(\n",
    "    data[\"openrouter/meta-llama/llama-3.1-8b-instruct\"][\"strawberry.py.TestStrawberry\"][\n",
    "        -1\n",
    "    ]\n",
    ")"
   ]
  },
  {
   "cell_type": "code",
   "execution_count": 11,
   "metadata": {},
   "outputs": [
    {
     "name": "stderr",
     "output_type": "stream",
     "text": [
      "2025-04-28:23:42:07 INFO     [__main__:440] Selected Tasks: ['strawberry']\n",
      "2025-04-28:23:42:07 INFO     [evaluator:185] Setting random seed to 0 | Setting numpy seed to 1234 | Setting torch manual seed to 1234 | Setting fewshot manual seed to 1234\n",
      "2025-04-28:23:42:07 INFO     [evaluator:223] Initializing openrouter-chat model, with arguments: {'model': 'meta-llama/llama-3.1-8b-instruct', 'num_concurrent': 64}\n",
      "2025-04-28:23:42:07 WARNING  [models.openai_completions:116] chat-completions endpoint requires the `--apply_chat_template` flag.\n",
      "2025-04-28:23:42:07 INFO     [models.api_models:115] Using max length 2048 - 1\n",
      "2025-04-28:23:42:07 INFO     [models.api_models:133] Using tokenizer None\n",
      "2025-04-28:23:42:07 INFO     [evaluator:286] strawberry: Using gen_kwargs: {'until': ['Question:', '</s>', '<|im_end|>'], 'do_sample': False}\n",
      "2025-04-28:23:42:07 WARNING  [evaluator:461] Chat template formatting change affects loglikelihood and multiple-choice tasks. See docs/chat-template-readme.md for details.\n",
      "2025-04-28:23:42:07 INFO     [api.task:434] Building contexts for strawberry on rank 0...\n",
      "100%|██████████| 344/344 [00:00<00:00, 4912.58it/s]\n",
      "2025-04-28:23:42:07 INFO     [evaluator:559] Running generate_until requests\n",
      "2025-04-28:23:42:07 INFO     [models.api_models:671] Tokenized requests are disabled. Context + generation length is not checked.\n",
      "Requesting API: 100%|██████████| 344/344 [00:12<00:00, 26.60it/s]\n",
      "2025-04-28:23:42:20 INFO     [loggers.evaluation_tracker:209] Saving results aggregated\n"
     ]
    },
    {
     "name": "stdout",
     "output_type": "stream",
     "text": [
      "openrouter-chat (model=meta-llama/llama-3.1-8b-instruct,num_concurrent=64), gen_kwargs: (None), limit: None, num_fewshot: None, batch_size: 1\n",
      "|  Tasks   |Version|     Filter     |n-shot|  Metric   |   |Value |   |Stderr|\n",
      "|----------|------:|----------------|-----:|-----------|---|-----:|---|-----:|\n",
      "|strawberry|      1|flexible-extract|     0|exact_match|↑  |0.4884|±  | 0.027|\n",
      "|          |       |strict-match    |     0|exact_match|↑  |0.0087|±  | 0.005|\n",
      "\n"
     ]
    },
    {
     "name": "stderr",
     "output_type": "stream",
     "text": [
      "2025-04-28:23:42:28 INFO     [__main__:440] Selected Tasks: ['strawberry']\n",
      "2025-04-28:23:42:28 INFO     [evaluator:185] Setting random seed to 0 | Setting numpy seed to 1234 | Setting torch manual seed to 1234 | Setting fewshot manual seed to 1234\n",
      "2025-04-28:23:42:28 INFO     [evaluator:223] Initializing openrouter-chat model, with arguments: {'model': 'mistralai/mistral-small-3.1-24b-instruct', 'num_concurrent': 64}\n",
      "2025-04-28:23:42:28 WARNING  [models.openai_completions:116] chat-completions endpoint requires the `--apply_chat_template` flag.\n",
      "2025-04-28:23:42:28 INFO     [models.api_models:115] Using max length 2048 - 1\n",
      "2025-04-28:23:42:28 INFO     [models.api_models:133] Using tokenizer None\n",
      "2025-04-28:23:42:28 INFO     [evaluator:286] strawberry: Using gen_kwargs: {'until': ['Question:', '</s>', '<|im_end|>'], 'do_sample': False}\n",
      "2025-04-28:23:42:28 WARNING  [evaluator:461] Chat template formatting change affects loglikelihood and multiple-choice tasks. See docs/chat-template-readme.md for details.\n",
      "2025-04-28:23:42:28 INFO     [api.task:434] Building contexts for strawberry on rank 0...\n",
      "100%|██████████| 344/344 [00:00<00:00, 4630.37it/s]\n",
      "2025-04-28:23:42:28 INFO     [evaluator:559] Running generate_until requests\n",
      "2025-04-28:23:42:28 INFO     [models.api_models:671] Tokenized requests are disabled. Context + generation length is not checked.\n",
      "Requesting API: 100%|██████████| 344/344 [00:30<00:00, 11.44it/s]\n",
      "2025-04-28:23:42:59 INFO     [loggers.evaluation_tracker:209] Saving results aggregated\n"
     ]
    },
    {
     "name": "stdout",
     "output_type": "stream",
     "text": [
      "openrouter-chat (model=mistralai/mistral-small-3.1-24b-instruct,num_concurrent=64), gen_kwargs: (None), limit: None, num_fewshot: None, batch_size: 1\n",
      "|  Tasks   |Version|     Filter     |n-shot|  Metric   |   |Value |   |Stderr|\n",
      "|----------|------:|----------------|-----:|-----------|---|-----:|---|-----:|\n",
      "|strawberry|      1|flexible-extract|     0|exact_match|↑  |0.8081|±  |0.0213|\n",
      "|          |       |strict-match    |     0|exact_match|↑  |0.0000|±  |0.0000|\n",
      "\n"
     ]
    },
    {
     "name": "stderr",
     "output_type": "stream",
     "text": [
      "2025-04-28:23:43:06 INFO     [__main__:440] Selected Tasks: ['strawberry']\n",
      "2025-04-28:23:43:06 INFO     [evaluator:185] Setting random seed to 0 | Setting numpy seed to 1234 | Setting torch manual seed to 1234 | Setting fewshot manual seed to 1234\n",
      "2025-04-28:23:43:06 INFO     [evaluator:223] Initializing openrouter-chat model, with arguments: {'model': 'meta-llama/llama-3.3-70b-instruct', 'num_concurrent': 64}\n",
      "2025-04-28:23:43:06 WARNING  [models.openai_completions:116] chat-completions endpoint requires the `--apply_chat_template` flag.\n",
      "2025-04-28:23:43:06 INFO     [models.api_models:115] Using max length 2048 - 1\n",
      "2025-04-28:23:43:06 INFO     [models.api_models:133] Using tokenizer None\n",
      "2025-04-28:23:43:07 INFO     [evaluator:286] strawberry: Using gen_kwargs: {'until': ['Question:', '</s>', '<|im_end|>'], 'do_sample': False}\n",
      "2025-04-28:23:43:07 WARNING  [evaluator:461] Chat template formatting change affects loglikelihood and multiple-choice tasks. See docs/chat-template-readme.md for details.\n",
      "2025-04-28:23:43:07 INFO     [api.task:434] Building contexts for strawberry on rank 0...\n",
      "100%|██████████| 344/344 [00:00<00:00, 4848.01it/s]\n",
      "2025-04-28:23:43:07 INFO     [evaluator:559] Running generate_until requests\n",
      "2025-04-28:23:43:07 INFO     [models.api_models:671] Tokenized requests are disabled. Context + generation length is not checked.\n",
      "Requesting API: 100%|██████████| 344/344 [01:06<00:00,  5.14it/s]\n",
      "2025-04-28:23:44:14 INFO     [loggers.evaluation_tracker:209] Saving results aggregated\n"
     ]
    },
    {
     "name": "stdout",
     "output_type": "stream",
     "text": [
      "openrouter-chat (model=meta-llama/llama-3.3-70b-instruct,num_concurrent=64), gen_kwargs: (None), limit: None, num_fewshot: None, batch_size: 1\n",
      "|  Tasks   |Version|     Filter     |n-shot|  Metric   |   |Value |   |Stderr|\n",
      "|----------|------:|----------------|-----:|-----------|---|-----:|---|-----:|\n",
      "|strawberry|      1|flexible-extract|     0|exact_match|↑  |0.5436|±  |0.0269|\n",
      "|          |       |strict-match    |     0|exact_match|↑  |0.0901|±  |0.0155|\n",
      "\n"
     ]
    },
    {
     "name": "stderr",
     "output_type": "stream",
     "text": [
      "2025-04-28:23:44:22 INFO     [__main__:440] Selected Tasks: ['strawberry']\n",
      "2025-04-28:23:44:22 INFO     [evaluator:185] Setting random seed to 0 | Setting numpy seed to 1234 | Setting torch manual seed to 1234 | Setting fewshot manual seed to 1234\n",
      "2025-04-28:23:44:22 INFO     [evaluator:223] Initializing openrouter-chat model, with arguments: {'model': 'openai/gpt-4o-2024-11-20', 'num_concurrent': 64}\n",
      "2025-04-28:23:44:22 WARNING  [models.openai_completions:116] chat-completions endpoint requires the `--apply_chat_template` flag.\n",
      "2025-04-28:23:44:22 INFO     [models.api_models:115] Using max length 2048 - 1\n",
      "2025-04-28:23:44:22 INFO     [models.api_models:133] Using tokenizer None\n",
      "2025-04-28:23:44:22 INFO     [evaluator:286] strawberry: Using gen_kwargs: {'until': ['Question:', '</s>', '<|im_end|>'], 'do_sample': False}\n",
      "2025-04-28:23:44:22 WARNING  [evaluator:461] Chat template formatting change affects loglikelihood and multiple-choice tasks. See docs/chat-template-readme.md for details.\n",
      "2025-04-28:23:44:22 INFO     [api.task:434] Building contexts for strawberry on rank 0...\n",
      "100%|██████████| 344/344 [00:00<00:00, 4854.42it/s]\n",
      "2025-04-28:23:44:23 INFO     [evaluator:559] Running generate_until requests\n",
      "2025-04-28:23:44:23 INFO     [models.api_models:671] Tokenized requests are disabled. Context + generation length is not checked.\n",
      "Requesting API: 100%|██████████| 344/344 [00:16<00:00, 20.99it/s]\n",
      "2025-04-28:23:44:39 INFO     [loggers.evaluation_tracker:209] Saving results aggregated\n"
     ]
    },
    {
     "name": "stdout",
     "output_type": "stream",
     "text": [
      "openrouter-chat (model=openai/gpt-4o-2024-11-20,num_concurrent=64), gen_kwargs: (None), limit: None, num_fewshot: None, batch_size: 1\n",
      "|  Tasks   |Version|     Filter     |n-shot|  Metric   |   |Value |   |Stderr|\n",
      "|----------|------:|----------------|-----:|-----------|---|-----:|---|-----:|\n",
      "|strawberry|      1|flexible-extract|     0|exact_match|↑  |0.9826|±  |0.0071|\n",
      "|          |       |strict-match    |     0|exact_match|↑  |0.0000|±  |0.0000|\n",
      "\n"
     ]
    },
    {
     "name": "stderr",
     "output_type": "stream",
     "text": [
      "2025-04-28:23:44:47 INFO     [__main__:440] Selected Tasks: ['strawberry']\n",
      "2025-04-28:23:44:47 INFO     [evaluator:185] Setting random seed to 0 | Setting numpy seed to 1234 | Setting torch manual seed to 1234 | Setting fewshot manual seed to 1234\n",
      "2025-04-28:23:44:47 INFO     [evaluator:223] Initializing openrouter-chat model, with arguments: {'model': 'anthropic/claude-3.7-sonnet', 'num_concurrent': 64}\n",
      "2025-04-28:23:44:47 WARNING  [models.openai_completions:116] chat-completions endpoint requires the `--apply_chat_template` flag.\n",
      "2025-04-28:23:44:47 INFO     [models.api_models:115] Using max length 2048 - 1\n",
      "2025-04-28:23:44:47 INFO     [models.api_models:133] Using tokenizer None\n",
      "2025-04-28:23:44:47 INFO     [evaluator:286] strawberry: Using gen_kwargs: {'until': ['Question:', '</s>', '<|im_end|>'], 'do_sample': False}\n",
      "2025-04-28:23:44:47 WARNING  [evaluator:461] Chat template formatting change affects loglikelihood and multiple-choice tasks. See docs/chat-template-readme.md for details.\n",
      "2025-04-28:23:44:47 INFO     [api.task:434] Building contexts for strawberry on rank 0...\n",
      "100%|██████████| 344/344 [00:00<00:00, 3804.01it/s]\n",
      "2025-04-28:23:44:47 INFO     [evaluator:559] Running generate_until requests\n",
      "2025-04-28:23:44:47 INFO     [models.api_models:671] Tokenized requests are disabled. Context + generation length is not checked.\n",
      "Requesting API: 100%|██████████| 344/344 [00:31<00:00, 10.86it/s]\n",
      "2025-04-28:23:45:19 INFO     [loggers.evaluation_tracker:209] Saving results aggregated\n"
     ]
    },
    {
     "name": "stdout",
     "output_type": "stream",
     "text": [
      "openrouter-chat (model=anthropic/claude-3.7-sonnet,num_concurrent=64), gen_kwargs: (None), limit: None, num_fewshot: None, batch_size: 1\n",
      "|  Tasks   |Version|     Filter     |n-shot|  Metric   |   |Value |   |Stderr|\n",
      "|----------|------:|----------------|-----:|-----------|---|-----:|---|-----:|\n",
      "|strawberry|      1|flexible-extract|     0|exact_match|↑  |0.9535|±  |0.0114|\n",
      "|          |       |strict-match    |     0|exact_match|↑  |0.0000|±  |0.0000|\n",
      "\n"
     ]
    }
   ],
   "source": [
    "%%bash\n",
    "cd ..\n",
    "for model in \"meta-llama/llama-3.1-8b-instruct\" \"mistralai/mistral-small-3.1-24b-instruct\" \"meta-llama/llama-3.3-70b-instruct\" \"qwen/qwen3-235b-a22b\" \"deepseek/deepseek-chat-v3-0324\"; do\n",
    "    OPENAI_API_KEY=$OPENROUTER_API_KEY lm_eval --model openrouter-chat \\\n",
    "        --model_args model=$model,num_concurrent=64 \\\n",
    "        --tasks strawberry \\\n",
    "        --apply_chat_template \\\n",
    "        --output_path experimental-notebooks/palindrome-real-results-data=llama-3.1-8b-instruct\n",
    "done"
   ]
  },
  {
   "cell_type": "code",
   "execution_count": 14,
   "metadata": {},
   "outputs": [],
   "source": [
    "# upload the gt data\n",
    "replace_dummy_data(df.to_csv(index=False))"
   ]
  },
  {
   "cell_type": "code",
   "execution_count": 17,
   "metadata": {},
   "outputs": [
    {
     "name": "stderr",
     "output_type": "stream",
     "text": [
      "2025-04-28:23:57:30 INFO     [__main__:440] Selected Tasks: ['strawberry']\n",
      "2025-04-28:23:57:30 INFO     [evaluator:185] Setting random seed to 0 | Setting numpy seed to 1234 | Setting torch manual seed to 1234 | Setting fewshot manual seed to 1234\n",
      "2025-04-28:23:57:30 INFO     [evaluator:223] Initializing openrouter-chat model, with arguments: {'model': 'anthropic/claude-3.7-sonnet', 'num_concurrent': 32}\n",
      "2025-04-28:23:57:30 WARNING  [models.openai_completions:116] chat-completions endpoint requires the `--apply_chat_template` flag.\n",
      "2025-04-28:23:57:30 INFO     [models.api_models:115] Using max length 2048 - 1\n",
      "2025-04-28:23:57:30 INFO     [models.api_models:133] Using tokenizer None\n",
      "2025-04-28:23:57:31 INFO     [evaluator:286] strawberry: Using gen_kwargs: {'until': ['Question:', '</s>', '<|im_end|>'], 'do_sample': False}\n",
      "2025-04-28:23:57:31 WARNING  [evaluator:461] Chat template formatting change affects loglikelihood and multiple-choice tasks. See docs/chat-template-readme.md for details.\n",
      "2025-04-28:23:57:31 INFO     [api.task:434] Building contexts for strawberry on rank 0...\n",
      "100%|██████████| 1000/1000 [00:00<00:00, 4544.55it/s]\n",
      "2025-04-28:23:57:31 INFO     [evaluator:559] Running generate_until requests\n",
      "2025-04-28:23:57:31 INFO     [models.api_models:671] Tokenized requests are disabled. Context + generation length is not checked.\n",
      "Requesting API: 100%|██████████| 1000/1000 [02:44<00:00,  6.09it/s]\n",
      "2025-04-29:00:00:16 INFO     [loggers.evaluation_tracker:209] Saving results aggregated\n"
     ]
    },
    {
     "name": "stdout",
     "output_type": "stream",
     "text": [
      "openrouter-chat (model=anthropic/claude-3.7-sonnet,num_concurrent=32), gen_kwargs: (None), limit: None, num_fewshot: None, batch_size: 1\n",
      "|  Tasks   |Version|     Filter     |n-shot|  Metric   |   |Value|   |Stderr|\n",
      "|----------|------:|----------------|-----:|-----------|---|----:|---|-----:|\n",
      "|strawberry|      1|flexible-extract|     0|exact_match|↑  |0.973|±  |0.0051|\n",
      "|          |       |strict-match    |     0|exact_match|↑  |0.000|±  |0.0000|\n",
      "\n"
     ]
    }
   ],
   "source": [
    "%%bash\n",
    "cd ..\n",
    "for model in \"meta-llama/llama-3.1-8b-instruct\" \"mistralai/mistral-small-3.1-24b-instruct\" \"meta-llama/llama-3.3-70b-instruct\" \"qwen/qwen3-235b-a22b\" \"deepseek/deepseek-chat-v3-0324\"; do\n",
    "    OPENAI_API_KEY=$OPENROUTER_API_KEY lm_eval --model openrouter-chat \\\n",
    "        --model_args model=$model,num_concurrent=64 \\\n",
    "        --tasks strawberry \\\n",
    "        --apply_chat_template \\\n",
    "        --output_path experimental-notebooks/palindrome-real-results-data=gt\n",
    "done"
   ]
  },
  {
   "cell_type": "code",
   "execution_count": null,
   "metadata": {},
   "outputs": [
    {
     "data": {
      "text/plain": [
       "Text(0, 0.5, 'GT Accuracy')"
      ]
     },
     "execution_count": 6,
     "metadata": {},
     "output_type": "execute_result"
    },
    {
     "data": {
      "image/png": "[encoded data removed]",
      "text/plain": [
       "<Figure size 1500x500 with 3 Axes>"
      ]
     },
     "metadata": {},
     "output_type": "display_data"
    }
   ],
   "source": [
    "import matplotlib.pyplot as plt\n",
    "\n",
    "synthetic_results = {\n",
    "    \"Llama 3.1 8B\": 0.4883720930232558,\n",
    "    \"Llama 3.3 70B\": 0.5436046511627907,\n",
    "    \"Mistral 24B\": 0.8081395348837209,\n",
    "    \"GPT-4o\": 0.9825581395348837,\n",
    "    \"Claude 3.7 Sonnet\": 0.9534883720930233,\n",
    "}\n",
    "gt_results = {\n",
    "    \"Llama 3.1 8B\": 0.475,\n",
    "    \"Llama 3.3 70B\": 0.547,\n",
    "    \"Mistral 24B\": 0.811,\n",
    "    \"GPT-4o\": 0.968,\n",
    "    \"Claude 3.7 Sonnet\": 0.973,\n",
    "}\n",
    "\n",
    "background_color = \"#F9FEF8\"\n",
    "text_and_border_color = \"#384039\"\n",
    "model_colors = {\n",
    "    \"Llama 3.1 8B\": \"#DEC5E6\",\n",
    "    \"Llama 3.3 70B\": \"#AA62C0\",\n",
    "    \"Mistral 24B\": \"#E54F4F\",\n",
    "    \"GPT-4o\": \"#176440\",\n",
    "    \"Claude 3.7 Sonnet\": \"#E57C4F\",\n",
    "}\n",
    "\n",
    "# make a plot of 2 bar charts then a scatter plot\n",
    "fig, axs = plt.subplots(1, 3, figsize=(15, 5))\n",
    "fig.set_facecolor(background_color)\n",
    "\n",
    "for i in range(3):\n",
    "    axs[i].set_facecolor(background_color)\n",
    "    axs[i].tick_params(axis=\"x\", rotation=45, width=2)\n",
    "    axs[i].tick_params(axis=\"y\", width=2)\n",
    "    axs[i].spines[\"top\"].set_linewidth(2)\n",
    "    axs[i].spines[\"right\"].set_linewidth(2)\n",
    "    axs[i].spines[\"bottom\"].set_linewidth(2)\n",
    "    axs[i].spines[\"left\"].set_linewidth(2)\n",
    "    axs[i].spines[\"top\"].set_color(text_and_border_color)\n",
    "    axs[i].spines[\"right\"].set_color(text_and_border_color)\n",
    "    axs[i].spines[\"bottom\"].set_color(text_and_border_color)\n",
    "    axs[i].spines[\"left\"].set_color(text_and_border_color)\n",
    "\n",
    "# plot the synthetic results\n",
    "axs[0].bar(\n",
    "    synthetic_results.keys(),\n",
    "    synthetic_results.values(),\n",
    "    color=list(model_colors.values()),\n",
    ")\n",
    "axs[0].set_box_aspect(1)\n",
    "axs[0].set_title(\"Synthetic Results\", color=text_and_border_color)\n",
    "axs[0].set_xlabel(\"Model\", color=text_and_border_color)\n",
    "axs[0].set_ylabel(\"Accuracy\", color=text_and_border_color)\n",
    "\n",
    "\n",
    "# plot the gt results\n",
    "axs[1].bar(gt_results.keys(), gt_results.values(), color=list(model_colors.values()))\n",
    "axs[1].set_box_aspect(1)\n",
    "axs[1].set_title(\"GT Results\", color=text_and_border_color)\n",
    "axs[1].set_xlabel(\"Model\", color=text_and_border_color)\n",
    "axs[1].set_ylabel(\"Accuracy\", color=text_and_border_color)\n",
    "\n",
    "# plot the scatter plot\n",
    "axs[2].scatter(\n",
    "    synthetic_results.values(),\n",
    "    gt_results.values(),\n",
    "    color=list(model_colors.values()),\n",
    "    s=200,\n",
    ")\n",
    "axs[2].set_box_aspect(1)\n",
    "axs[2].set_title(\"Scatter Plot of Synthetic vs GT Results\", color=text_and_border_color)\n",
    "axs[2].set_xlabel(\"Synthetic Accuracy\", color=text_and_border_color)\n",
    "axs[2].set_ylabel(\"GT Accuracy\", color=text_and_border_color)"
   ]
  },
  {
   "cell_type": "code",
   "execution_count": null,
   "metadata": {},
   "outputs": [],
   "source": []
  }
 ],
 "metadata": {
  "kernelspec": {
   "display_name": "lm-harness",
   "language": "python",
   "name": "python3"
  },
  "language_info": {
   "codemirror_mode": {
    "name": "ipython",
    "version": 3
   },
   "file_extension": ".py",
   "mimetype": "text/x-python",
   "name": "python",
   "nbconvert_exporter": "python",
   "pygments_lexer": "ipython3",
   "version": "3.9.16"
  }
 },
 "nbformat": 4,
 "nbformat_minor": 2
}
