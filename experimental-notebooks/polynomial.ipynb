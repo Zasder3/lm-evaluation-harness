{
 "cells": [
  {
   "cell_type": "code",
   "execution_count": 1,
   "metadata": {},
   "outputs": [],
   "source": [
    "import json\n",
    "from pprint import pprint"
   ]
  },
  {
   "cell_type": "code",
   "execution_count": 3,
   "metadata": {},
   "outputs": [],
   "source": [
    "with open(\"successful_csvs_poly_palr.json\") as f:\n",
    "    data = json.load(f)"
   ]
  },
  {
   "cell_type": "code",
   "execution_count": 4,
   "metadata": {},
   "outputs": [
    {
     "name": "stdout",
     "output_type": "stream",
     "text": [
      "openrouter/meta-llama/llama-3.1-8b-instruct polynomial.py.TestPolynomial 3\n",
      "openrouter/meta-llama/llama-3.1-8b-instruct palindrome.py.TestPalindrome 0\n",
      "openrouter/meta-llama/llama-3.1-8b-instruct palindrome_random.py.TestPalindromeRandom 5\n"
     ]
    }
   ],
   "source": [
    "for key in data:\n",
    "    for item in data[key]:\n",
    "        print(key, item, len(data[key][item]))\n"
   ]
  },
  {
   "cell_type": "code",
   "execution_count": 5,
   "metadata": {},
   "outputs": [],
   "source": [
    "import pandas as pd\n",
    "from io import StringIO\n",
    "import numpy as np"
   ]
  },
  {
   "cell_type": "code",
   "execution_count": 16,
   "metadata": {},
   "outputs": [
    {
     "name": "stdout",
     "output_type": "stream",
     "text": [
      "                                            question  answer\n",
      "0  Evaluate the polynomial 4*x**2 -3*x**4 at x = ...  -29600\n",
      "1  Evaluate the polynomial 10*x**3 -3*x**2 + 10*x...    9810\n",
      "2  Evaluate the polynomial (1 + 6*x**2)*(-x**3 + ...  123200\n",
      "3  Evaluate the polynomial (10 -4*x -7)*(7*x -2*x...   -1850\n",
      "4  Evaluate the polynomial -4*x**3 -3*x**2 + 3 -7...     105\n"
     ]
    }
   ],
   "source": [
    "import numpy as np\n",
    "import pandas as pd\n",
    "import sympy as sp\n",
    "\n",
    "# Set random seed for reproducibility\n",
    "np.random.seed(42)\n",
    "\n",
    "\n",
    "# Function to generate a random polynomial term\n",
    "def generate_term():\n",
    "    coefficient = np.random.randint(-10, 11)\n",
    "    while coefficient == 0:  # Avoid zero coefficients\n",
    "        coefficient = np.random.randint(-10, 11)\n",
    "\n",
    "    power = np.random.randint(0, 5)  # Powers from 0 to 4\n",
    "\n",
    "    if power == 0:\n",
    "        return str(coefficient)\n",
    "    elif power == 1:\n",
    "        if coefficient == 1:\n",
    "            return \"x\"\n",
    "        elif coefficient == -1:\n",
    "            return \"-x\"\n",
    "        else:\n",
    "            return f\"{coefficient}*x\"\n",
    "    else:\n",
    "        if coefficient == 1:\n",
    "            return f\"x**{power}\"\n",
    "        elif coefficient == -1:\n",
    "            return f\"-x**{power}\"\n",
    "        else:\n",
    "            return f\"{coefficient}*x**{power}\"\n",
    "\n",
    "\n",
    "# Function to generate a polynomial with n terms\n",
    "def generate_polynomial(n_terms):\n",
    "    terms = [generate_term() for _ in range(n_terms)]\n",
    "    # Join terms with + or - signs\n",
    "    polynomial = terms[0]\n",
    "    for term in terms[1:]:\n",
    "        if term.startswith(\"-\"):\n",
    "            polynomial += f\" {term}\"\n",
    "        else:\n",
    "            polynomial += f\" + {term}\"\n",
    "    return polynomial\n",
    "\n",
    "\n",
    "# Function to generate product of polynomials\n",
    "def generate_product():\n",
    "    # Generate two polynomials with 1-3 terms each\n",
    "    poly1 = generate_polynomial(np.random.randint(1, 4))\n",
    "    poly2 = generate_polynomial(np.random.randint(1, 4))\n",
    "\n",
    "    # Format as product\n",
    "    return f\"({poly1})*({poly2})\"\n",
    "\n",
    "\n",
    "# Function to evaluate polynomial expression at a given x\n",
    "def evaluate_expression(expr_str, x_val):\n",
    "    x = sp.Symbol(\"x\")\n",
    "    # No need to replace ^ with ** since we're using ** in generation\n",
    "    expr = sp.sympify(expr_str)\n",
    "    result = expr.subs(x, x_val)\n",
    "    return int(result) if result.is_integer else float(result)\n",
    "\n",
    "\n",
    "# Generate data\n",
    "n_samples = 100\n",
    "expressions = []\n",
    "x_values = []\n",
    "correct_answers = []\n",
    "\n",
    "for _ in range(n_samples):\n",
    "    # Decide between single polynomial or product\n",
    "    if np.random.random() < 0.5:\n",
    "        expr = generate_polynomial(np.random.randint(2, 5))\n",
    "    else:\n",
    "        expr = generate_product()\n",
    "\n",
    "    # Choose an integer x value between -10 and 10\n",
    "    x_val = np.random.randint(-10, 11)\n",
    "\n",
    "    # Calculate the correct answer\n",
    "    answer = evaluate_expression(expr, x_val)\n",
    "\n",
    "    expressions.append(expr)\n",
    "    x_values.append(x_val)\n",
    "    correct_answers.append(answer)\n",
    "\n",
    "# Create questions\n",
    "questions = [\n",
    "    f\"Evaluate the polynomial {expr} at x = {x_val}. Provide only the integer result.\"\n",
    "    for expr, x_val in zip(expressions, x_values)\n",
    "]\n",
    "\n",
    "# Create dataframe\n",
    "df = pd.DataFrame(\n",
    "    {\n",
    "        \"question\": questions,\n",
    "        \"answer\": correct_answers,\n",
    "    }\n",
    ")\n",
    "\n",
    "# Save to CSV\n",
    "df.to_csv(\"polynomial_evaluation_benchmark.csv\", index=False)\n",
    "\n",
    "# Display a few examples\n",
    "print(df.head())"
   ]
  },
  {
   "cell_type": "code",
   "execution_count": 7,
   "metadata": {},
   "outputs": [
    {
     "data": {
      "text/html": [
       "<div>\n",
       "<style scoped>\n",
       "    .dataframe tbody tr th:only-of-type {\n",
       "        vertical-align: middle;\n",
       "    }\n",
       "\n",
       "    .dataframe tbody tr th {\n",
       "        vertical-align: top;\n",
       "    }\n",
       "\n",
       "    .dataframe thead th {\n",
       "        text-align: right;\n",
       "    }\n",
       "</style>\n",
       "<table border=\"1\" class=\"dataframe\">\n",
       "  <thead>\n",
       "    <tr style=\"text-align: right;\">\n",
       "      <th></th>\n",
       "      <th>question</th>\n",
       "      <th>answer</th>\n",
       "    </tr>\n",
       "  </thead>\n",
       "  <tbody>\n",
       "    <tr>\n",
       "      <th>0</th>\n",
       "      <td>What is the value of the polynomial [5, -10] a...</td>\n",
       "      <td>0</td>\n",
       "    </tr>\n",
       "    <tr>\n",
       "      <th>1</th>\n",
       "      <td>What is the value of the polynomial [-7, -3, -...</td>\n",
       "      <td>-15882</td>\n",
       "    </tr>\n",
       "    <tr>\n",
       "      <th>2</th>\n",
       "      <td>What is the value of the polynomial [-4, 2] at...</td>\n",
       "      <td>18</td>\n",
       "    </tr>\n",
       "    <tr>\n",
       "      <th>3</th>\n",
       "      <td>What is the value of the polynomial [-9, -4, -...</td>\n",
       "      <td>220</td>\n",
       "    </tr>\n",
       "    <tr>\n",
       "      <th>4</th>\n",
       "      <td>What is the value of the polynomial [7, -5] at...</td>\n",
       "      <td>58</td>\n",
       "    </tr>\n",
       "  </tbody>\n",
       "</table>\n",
       "</div>"
      ],
      "text/plain": [
       "                                            question  answer\n",
       "0  What is the value of the polynomial [5, -10] a...       0\n",
       "1  What is the value of the polynomial [-7, -3, -...  -15882\n",
       "2  What is the value of the polynomial [-4, 2] at...      18\n",
       "3  What is the value of the polynomial [-9, -4, -...     220\n",
       "4  What is the value of the polynomial [7, -5] at...      58"
      ]
     },
     "execution_count": 7,
     "metadata": {},
     "output_type": "execute_result"
    }
   ],
   "source": [
    "df = pd.read_csv(\n",
    "    StringIO(\n",
    "        data[\"openrouter/meta-llama/llama-3.1-8b-instruct\"][\n",
    "            \"polynomial.py.TestPolynomial\"\n",
    "        ][-1]\n",
    "    )\n",
    ")\n",
    "df.head()"
   ]
  },
  {
   "cell_type": "code",
   "execution_count": 10,
   "metadata": {},
   "outputs": [],
   "source": [
    "def replace_dummy_data(csv_txt: str, path=\"../lm_eval/tasks/dummy_task/dummy_data.csv\"):\n",
    "    with open(path, \"w\") as f:\n",
    "        f.write(csv_txt)\n",
    "\n",
    "\n",
    "replace_dummy_data(\n",
    "    data[\"openrouter/meta-llama/llama-3.1-8b-instruct\"][\"polynomial.py.TestPolynomial\"][\n",
    "        -1\n",
    "    ]\n",
    ")"
   ]
  },
  {
   "cell_type": "code",
   "execution_count": 12,
   "metadata": {},
   "outputs": [
    {
     "name": "stderr",
     "output_type": "stream",
     "text": [
      "2025-05-14:16:00:13 INFO     [__main__:440] Selected Tasks: ['strawberry']\n",
      "2025-05-14:16:00:13 INFO     [evaluator:185] Setting random seed to 0 | Setting numpy seed to 1234 | Setting torch manual seed to 1234 | Setting fewshot manual seed to 1234\n",
      "2025-05-14:16:00:13 INFO     [evaluator:223] Initializing openrouter-chat model, with arguments: {'model': 'meta-llama/llama-3.1-8b-instruct', 'num_concurrent': 64}\n",
      "2025-05-14:16:00:13 WARNING  [models.openai_completions:116] chat-completions endpoint requires the `--apply_chat_template` flag.\n",
      "2025-05-14:16:00:13 INFO     [models.api_models:115] Using max length 2048 - 1\n",
      "2025-05-14:16:00:13 INFO     [models.api_models:133] Using tokenizer None\n",
      "2025-05-14:16:00:13 INFO     [evaluator:286] strawberry: Using gen_kwargs: {'until': ['Question:', '</s>', '<|im_end|>'], 'do_sample': False}\n",
      "2025-05-14:16:00:13 WARNING  [evaluator:461] Chat template formatting change affects loglikelihood and multiple-choice tasks. See docs/chat-template-readme.md for details.\n",
      "2025-05-14:16:00:13 INFO     [api.task:434] Building contexts for strawberry on rank 0...\n",
      "100%|██████████| 100/100 [00:00<00:00, 3400.44it/s]\n",
      "2025-05-14:16:00:13 INFO     [evaluator:559] Running generate_until requests\n",
      "2025-05-14:16:00:13 INFO     [models.api_models:671] Tokenized requests are disabled. Context + generation length is not checked.\n",
      "Requesting API:  32%|███▏      | 32/100 [00:04<00:04, 13.92it/s]2025-05-14:16:00:17 ERROR    [models.openrouter_api:153] API request error: Response payload is not completed: <TransferEncodingError: 400, message='Not enough data for satisfy transfer length header.'>\n",
      "Requesting API: 100%|██████████| 100/100 [00:12<00:00,  8.03it/s]\n",
      "2025-05-14:16:00:26 INFO     [loggers.evaluation_tracker:209] Saving results aggregated\n"
     ]
    },
    {
     "name": "stdout",
     "output_type": "stream",
     "text": [
      "openrouter-chat (model=meta-llama/llama-3.1-8b-instruct,num_concurrent=64), gen_kwargs: (None), limit: None, num_fewshot: None, batch_size: 1\n",
      "|  Tasks   |Version|     Filter     |n-shot|  Metric   |   |Value|   |Stderr|\n",
      "|----------|------:|----------------|-----:|-----------|---|----:|---|-----:|\n",
      "|strawberry|      1|flexible-extract|     0|exact_match|↑  | 0.17|±  |0.0378|\n",
      "|          |       |strict-match    |     0|exact_match|↑  | 0.00|±  |0.0000|\n",
      "\n"
     ]
    },
    {
     "name": "stderr",
     "output_type": "stream",
     "text": [
      "2025-05-14:16:00:31 INFO     [__main__:440] Selected Tasks: ['strawberry']\n",
      "2025-05-14:16:00:31 INFO     [evaluator:185] Setting random seed to 0 | Setting numpy seed to 1234 | Setting torch manual seed to 1234 | Setting fewshot manual seed to 1234\n",
      "2025-05-14:16:00:31 INFO     [evaluator:223] Initializing openrouter-chat model, with arguments: {'model': 'mistralai/mistral-small-3.1-24b-instruct', 'num_concurrent': 64}\n",
      "2025-05-14:16:00:31 WARNING  [models.openai_completions:116] chat-completions endpoint requires the `--apply_chat_template` flag.\n",
      "2025-05-14:16:00:31 INFO     [models.api_models:115] Using max length 2048 - 1\n",
      "2025-05-14:16:00:31 INFO     [models.api_models:133] Using tokenizer None\n",
      "2025-05-14:16:00:31 INFO     [evaluator:286] strawberry: Using gen_kwargs: {'until': ['Question:', '</s>', '<|im_end|>'], 'do_sample': False}\n",
      "2025-05-14:16:00:31 WARNING  [evaluator:461] Chat template formatting change affects loglikelihood and multiple-choice tasks. See docs/chat-template-readme.md for details.\n",
      "2025-05-14:16:00:31 INFO     [api.task:434] Building contexts for strawberry on rank 0...\n",
      "100%|██████████| 100/100 [00:00<00:00, 4084.43it/s]\n",
      "2025-05-14:16:00:31 INFO     [evaluator:559] Running generate_until requests\n",
      "2025-05-14:16:00:31 INFO     [models.api_models:671] Tokenized requests are disabled. Context + generation length is not checked.\n",
      "Requesting API: 100%|██████████| 100/100 [00:09<00:00, 10.21it/s]\n",
      "2025-05-14:16:00:41 INFO     [loggers.evaluation_tracker:209] Saving results aggregated\n"
     ]
    },
    {
     "name": "stdout",
     "output_type": "stream",
     "text": [
      "openrouter-chat (model=mistralai/mistral-small-3.1-24b-instruct,num_concurrent=64), gen_kwargs: (None), limit: None, num_fewshot: None, batch_size: 1\n",
      "|  Tasks   |Version|     Filter     |n-shot|  Metric   |   |Value|   |Stderr|\n",
      "|----------|------:|----------------|-----:|-----------|---|----:|---|-----:|\n",
      "|strawberry|      1|flexible-extract|     0|exact_match|↑  | 0.42|±  |0.0496|\n",
      "|          |       |strict-match    |     0|exact_match|↑  | 0.00|±  |0.0000|\n",
      "\n"
     ]
    },
    {
     "name": "stderr",
     "output_type": "stream",
     "text": [
      "2025-05-14:16:00:47 INFO     [__main__:440] Selected Tasks: ['strawberry']\n",
      "2025-05-14:16:00:47 INFO     [evaluator:185] Setting random seed to 0 | Setting numpy seed to 1234 | Setting torch manual seed to 1234 | Setting fewshot manual seed to 1234\n",
      "2025-05-14:16:00:47 INFO     [evaluator:223] Initializing openrouter-chat model, with arguments: {'model': 'meta-llama/llama-3.3-70b-instruct', 'num_concurrent': 64}\n",
      "2025-05-14:16:00:47 WARNING  [models.openai_completions:116] chat-completions endpoint requires the `--apply_chat_template` flag.\n",
      "2025-05-14:16:00:47 INFO     [models.api_models:115] Using max length 2048 - 1\n",
      "2025-05-14:16:00:47 INFO     [models.api_models:133] Using tokenizer None\n",
      "2025-05-14:16:00:48 INFO     [evaluator:286] strawberry: Using gen_kwargs: {'until': ['Question:', '</s>', '<|im_end|>'], 'do_sample': False}\n",
      "2025-05-14:16:00:48 WARNING  [evaluator:461] Chat template formatting change affects loglikelihood and multiple-choice tasks. See docs/chat-template-readme.md for details.\n",
      "2025-05-14:16:00:48 INFO     [api.task:434] Building contexts for strawberry on rank 0...\n",
      "100%|██████████| 100/100 [00:00<00:00, 4055.48it/s]\n",
      "2025-05-14:16:00:48 INFO     [evaluator:559] Running generate_until requests\n",
      "2025-05-14:16:00:48 INFO     [models.api_models:671] Tokenized requests are disabled. Context + generation length is not checked.\n",
      "Requesting API: 100%|██████████| 100/100 [00:42<00:00,  2.36it/s]\n",
      "2025-05-14:16:01:32 INFO     [loggers.evaluation_tracker:209] Saving results aggregated\n"
     ]
    },
    {
     "name": "stdout",
     "output_type": "stream",
     "text": [
      "openrouter-chat (model=meta-llama/llama-3.3-70b-instruct,num_concurrent=64), gen_kwargs: (None), limit: None, num_fewshot: None, batch_size: 1\n",
      "|  Tasks   |Version|     Filter     |n-shot|  Metric   |   |Value|   |Stderr|\n",
      "|----------|------:|----------------|-----:|-----------|---|----:|---|-----:|\n",
      "|strawberry|      1|flexible-extract|     0|exact_match|↑  | 0.25|±  |0.0435|\n",
      "|          |       |strict-match    |     0|exact_match|↑  | 0.00|±  |0.0000|\n",
      "\n"
     ]
    },
    {
     "name": "stderr",
     "output_type": "stream",
     "text": [
      "2025-05-14:16:01:45 INFO     [__main__:440] Selected Tasks: ['strawberry']\n",
      "2025-05-14:16:01:45 INFO     [evaluator:185] Setting random seed to 0 | Setting numpy seed to 1234 | Setting torch manual seed to 1234 | Setting fewshot manual seed to 1234\n",
      "2025-05-14:16:01:45 INFO     [evaluator:223] Initializing openrouter-chat model, with arguments: {'model': 'qwen/qwen3-235b-a22b', 'num_concurrent': 64}\n",
      "2025-05-14:16:01:45 WARNING  [models.openai_completions:116] chat-completions endpoint requires the `--apply_chat_template` flag.\n",
      "2025-05-14:16:01:45 INFO     [models.api_models:115] Using max length 2048 - 1\n",
      "2025-05-14:16:01:45 INFO     [models.api_models:133] Using tokenizer None\n",
      "2025-05-14:16:01:45 INFO     [evaluator:286] strawberry: Using gen_kwargs: {'until': ['Question:', '</s>', '<|im_end|>'], 'do_sample': False}\n",
      "2025-05-14:16:01:45 WARNING  [evaluator:461] Chat template formatting change affects loglikelihood and multiple-choice tasks. See docs/chat-template-readme.md for details.\n",
      "2025-05-14:16:01:45 INFO     [api.task:434] Building contexts for strawberry on rank 0...\n",
      "100%|██████████| 100/100 [00:00<00:00, 4966.14it/s]\n",
      "2025-05-14:16:01:45 INFO     [evaluator:559] Running generate_until requests\n",
      "2025-05-14:16:01:45 INFO     [models.api_models:671] Tokenized requests are disabled. Context + generation length is not checked.\n",
      "Requesting API: 100%|██████████| 100/100 [00:42<00:00,  2.37it/s]\n",
      "2025-05-14:16:02:28 INFO     [loggers.evaluation_tracker:209] Saving results aggregated\n"
     ]
    },
    {
     "name": "stdout",
     "output_type": "stream",
     "text": [
      "openrouter-chat (model=qwen/qwen3-235b-a22b,num_concurrent=64), gen_kwargs: (None), limit: None, num_fewshot: None, batch_size: 1\n",
      "|  Tasks   |Version|     Filter     |n-shot|  Metric   |   |Value|   |Stderr|\n",
      "|----------|------:|----------------|-----:|-----------|---|----:|---|-----:|\n",
      "|strawberry|      1|flexible-extract|     0|exact_match|↑  |    0|±  |     0|\n",
      "|          |       |strict-match    |     0|exact_match|↑  |    0|±  |     0|\n",
      "\n"
     ]
    },
    {
     "name": "stderr",
     "output_type": "stream",
     "text": [
      "2025-05-14:16:02:34 INFO     [__main__:440] Selected Tasks: ['strawberry']\n",
      "2025-05-14:16:02:34 INFO     [evaluator:185] Setting random seed to 0 | Setting numpy seed to 1234 | Setting torch manual seed to 1234 | Setting fewshot manual seed to 1234\n",
      "2025-05-14:16:02:34 INFO     [evaluator:223] Initializing openrouter-chat model, with arguments: {'model': 'deepseek/deepseek-chat-v3-0324', 'num_concurrent': 64}\n",
      "2025-05-14:16:02:34 WARNING  [models.openai_completions:116] chat-completions endpoint requires the `--apply_chat_template` flag.\n",
      "2025-05-14:16:02:34 INFO     [models.api_models:115] Using max length 2048 - 1\n",
      "2025-05-14:16:02:34 INFO     [models.api_models:133] Using tokenizer None\n",
      "2025-05-14:16:02:34 INFO     [evaluator:286] strawberry: Using gen_kwargs: {'until': ['Question:', '</s>', '<|im_end|>'], 'do_sample': False}\n",
      "2025-05-14:16:02:34 WARNING  [evaluator:461] Chat template formatting change affects loglikelihood and multiple-choice tasks. See docs/chat-template-readme.md for details.\n",
      "2025-05-14:16:02:34 INFO     [api.task:434] Building contexts for strawberry on rank 0...\n",
      "100%|██████████| 100/100 [00:00<00:00, 4341.75it/s]\n",
      "2025-05-14:16:02:34 INFO     [evaluator:559] Running generate_until requests\n",
      "2025-05-14:16:02:34 INFO     [models.api_models:671] Tokenized requests are disabled. Context + generation length is not checked.\n",
      "Requesting API: 100%|██████████| 100/100 [01:30<00:00,  1.10it/s]\n",
      "2025-05-14:16:04:05 INFO     [loggers.evaluation_tracker:209] Saving results aggregated\n"
     ]
    },
    {
     "name": "stdout",
     "output_type": "stream",
     "text": [
      "openrouter-chat (model=deepseek/deepseek-chat-v3-0324,num_concurrent=64), gen_kwargs: (None), limit: None, num_fewshot: None, batch_size: 1\n",
      "|  Tasks   |Version|     Filter     |n-shot|  Metric   |   |Value|   |Stderr|\n",
      "|----------|------:|----------------|-----:|-----------|---|----:|---|-----:|\n",
      "|strawberry|      1|flexible-extract|     0|exact_match|↑  | 0.22|±  |0.0416|\n",
      "|          |       |strict-match    |     0|exact_match|↑  | 0.00|±  |0.0000|\n",
      "\n"
     ]
    }
   ],
   "source": [
    "%%bash\n",
    "cd ..\n",
    "for model in \"meta-llama/llama-3.1-8b-instruct\" \"mistralai/mistral-small-3.1-24b-instruct\" \"meta-llama/llama-3.3-70b-instruct\" \"qwen/qwen3-235b-a22b\" \"deepseek/deepseek-chat-v3-0324\"; do\n",
    "    OPENAI_API_KEY=$OPENROUTER_API_KEY lm_eval --model openrouter-chat \\\n",
    "        --model_args model=$model,num_concurrent=64 \\\n",
    "        --tasks strawberry \\\n",
    "        --apply_chat_template \\\n",
    "        --output_path experimental-notebooks/polynomial-results-data=llama-3.1-8b-instruct\n",
    "done"
   ]
  },
  {
   "cell_type": "code",
   "execution_count": 17,
   "metadata": {},
   "outputs": [],
   "source": [
    "# upload the gt data\n",
    "replace_dummy_data(df.to_csv(index=False))"
   ]
  },
  {
   "cell_type": "code",
   "execution_count": 18,
   "metadata": {},
   "outputs": [
    {
     "name": "stderr",
     "output_type": "stream",
     "text": [
      "2025-05-14:16:19:26 INFO     [__main__:440] Selected Tasks: ['strawberry']\n",
      "2025-05-14:16:19:26 INFO     [evaluator:185] Setting random seed to 0 | Setting numpy seed to 1234 | Setting torch manual seed to 1234 | Setting fewshot manual seed to 1234\n",
      "2025-05-14:16:19:26 INFO     [evaluator:223] Initializing openrouter-chat model, with arguments: {'model': 'meta-llama/llama-3.1-8b-instruct', 'num_concurrent': 64}\n",
      "2025-05-14:16:19:26 WARNING  [models.openai_completions:116] chat-completions endpoint requires the `--apply_chat_template` flag.\n",
      "2025-05-14:16:19:26 INFO     [models.api_models:115] Using max length 2048 - 1\n",
      "2025-05-14:16:19:26 INFO     [models.api_models:133] Using tokenizer None\n",
      "Generating train split: 100 examples [00:00, 8377.21 examples/s]\n",
      "2025-05-14:16:19:26 INFO     [evaluator:286] strawberry: Using gen_kwargs: {'until': ['Question:', '</s>', '<|im_end|>'], 'do_sample': False}\n",
      "2025-05-14:16:19:26 WARNING  [evaluator:461] Chat template formatting change affects loglikelihood and multiple-choice tasks. See docs/chat-template-readme.md for details.\n",
      "2025-05-14:16:19:26 INFO     [api.task:434] Building contexts for strawberry on rank 0...\n",
      "100%|██████████| 100/100 [00:00<00:00, 4683.81it/s]\n",
      "2025-05-14:16:19:26 INFO     [evaluator:559] Running generate_until requests\n",
      "2025-05-14:16:19:26 INFO     [models.api_models:671] Tokenized requests are disabled. Context + generation length is not checked.\n",
      "Requesting API: 100%|██████████| 100/100 [00:17<00:00,  5.83it/s]\n",
      "2025-05-14:16:19:44 INFO     [loggers.evaluation_tracker:209] Saving results aggregated\n"
     ]
    },
    {
     "name": "stdout",
     "output_type": "stream",
     "text": [
      "openrouter-chat (model=meta-llama/llama-3.1-8b-instruct,num_concurrent=64), gen_kwargs: (None), limit: None, num_fewshot: None, batch_size: 1\n",
      "|  Tasks   |Version|     Filter     |n-shot|  Metric   |   |Value|   |Stderr|\n",
      "|----------|------:|----------------|-----:|-----------|---|----:|---|-----:|\n",
      "|strawberry|      1|flexible-extract|     0|exact_match|↑  | 0.56|±  |0.0499|\n",
      "|          |       |strict-match    |     0|exact_match|↑  | 0.00|±  |0.0000|\n",
      "\n"
     ]
    },
    {
     "name": "stderr",
     "output_type": "stream",
     "text": [
      "2025-05-14:16:19:50 INFO     [__main__:440] Selected Tasks: ['strawberry']\n",
      "2025-05-14:16:19:50 INFO     [evaluator:185] Setting random seed to 0 | Setting numpy seed to 1234 | Setting torch manual seed to 1234 | Setting fewshot manual seed to 1234\n",
      "2025-05-14:16:19:50 INFO     [evaluator:223] Initializing openrouter-chat model, with arguments: {'model': 'mistralai/mistral-small-3.1-24b-instruct', 'num_concurrent': 64}\n",
      "2025-05-14:16:19:50 WARNING  [models.openai_completions:116] chat-completions endpoint requires the `--apply_chat_template` flag.\n",
      "2025-05-14:16:19:50 INFO     [models.api_models:115] Using max length 2048 - 1\n",
      "2025-05-14:16:19:50 INFO     [models.api_models:133] Using tokenizer None\n",
      "2025-05-14:16:19:50 INFO     [evaluator:286] strawberry: Using gen_kwargs: {'until': ['Question:', '</s>', '<|im_end|>'], 'do_sample': False}\n",
      "2025-05-14:16:19:50 WARNING  [evaluator:461] Chat template formatting change affects loglikelihood and multiple-choice tasks. See docs/chat-template-readme.md for details.\n",
      "2025-05-14:16:19:50 INFO     [api.task:434] Building contexts for strawberry on rank 0...\n",
      "100%|██████████| 100/100 [00:00<00:00, 4430.49it/s]\n",
      "2025-05-14:16:19:50 INFO     [evaluator:559] Running generate_until requests\n",
      "2025-05-14:16:19:50 INFO     [models.api_models:671] Tokenized requests are disabled. Context + generation length is not checked.\n",
      "Requesting API: 100%|██████████| 100/100 [00:09<00:00, 10.08it/s]\n",
      "2025-05-14:16:20:00 INFO     [loggers.evaluation_tracker:209] Saving results aggregated\n"
     ]
    },
    {
     "name": "stdout",
     "output_type": "stream",
     "text": [
      "openrouter-chat (model=mistralai/mistral-small-3.1-24b-instruct,num_concurrent=64), gen_kwargs: (None), limit: None, num_fewshot: None, batch_size: 1\n",
      "|  Tasks   |Version|     Filter     |n-shot|  Metric   |   |Value|   |Stderr|\n",
      "|----------|------:|----------------|-----:|-----------|---|----:|---|-----:|\n",
      "|strawberry|      1|flexible-extract|     0|exact_match|↑  | 0.64|±  |0.0482|\n",
      "|          |       |strict-match    |     0|exact_match|↑  | 0.00|±  |0.0000|\n",
      "\n"
     ]
    },
    {
     "name": "stderr",
     "output_type": "stream",
     "text": [
      "2025-05-14:16:20:10 INFO     [__main__:440] Selected Tasks: ['strawberry']\n",
      "2025-05-14:16:20:10 INFO     [evaluator:185] Setting random seed to 0 | Setting numpy seed to 1234 | Setting torch manual seed to 1234 | Setting fewshot manual seed to 1234\n",
      "2025-05-14:16:20:10 INFO     [evaluator:223] Initializing openrouter-chat model, with arguments: {'model': 'meta-llama/llama-3.3-70b-instruct', 'num_concurrent': 64}\n",
      "2025-05-14:16:20:10 WARNING  [models.openai_completions:116] chat-completions endpoint requires the `--apply_chat_template` flag.\n",
      "2025-05-14:16:20:10 INFO     [models.api_models:115] Using max length 2048 - 1\n",
      "2025-05-14:16:20:10 INFO     [models.api_models:133] Using tokenizer None\n",
      "2025-05-14:16:20:11 INFO     [evaluator:286] strawberry: Using gen_kwargs: {'until': ['Question:', '</s>', '<|im_end|>'], 'do_sample': False}\n",
      "2025-05-14:16:20:11 WARNING  [evaluator:461] Chat template formatting change affects loglikelihood and multiple-choice tasks. See docs/chat-template-readme.md for details.\n",
      "2025-05-14:16:20:11 INFO     [api.task:434] Building contexts for strawberry on rank 0...\n",
      "100%|██████████| 100/100 [00:00<00:00, 3238.64it/s]\n",
      "2025-05-14:16:20:11 INFO     [evaluator:559] Running generate_until requests\n",
      "2025-05-14:16:20:11 INFO     [models.api_models:671] Tokenized requests are disabled. Context + generation length is not checked.\n",
      "Requesting API: 100%|██████████| 100/100 [00:14<00:00,  6.70it/s]\n",
      "2025-05-14:16:20:26 INFO     [loggers.evaluation_tracker:209] Saving results aggregated\n"
     ]
    },
    {
     "name": "stdout",
     "output_type": "stream",
     "text": [
      "openrouter-chat (model=meta-llama/llama-3.3-70b-instruct,num_concurrent=64), gen_kwargs: (None), limit: None, num_fewshot: None, batch_size: 1\n",
      "|  Tasks   |Version|     Filter     |n-shot|  Metric   |   |Value|   |Stderr|\n",
      "|----------|------:|----------------|-----:|-----------|---|----:|---|-----:|\n",
      "|strawberry|      1|flexible-extract|     0|exact_match|↑  | 0.66|±  |0.0476|\n",
      "|          |       |strict-match    |     0|exact_match|↑  | 0.00|±  |0.0000|\n",
      "\n"
     ]
    },
    {
     "name": "stderr",
     "output_type": "stream",
     "text": [
      "2025-05-14:16:20:32 INFO     [__main__:440] Selected Tasks: ['strawberry']\n",
      "2025-05-14:16:20:32 INFO     [evaluator:185] Setting random seed to 0 | Setting numpy seed to 1234 | Setting torch manual seed to 1234 | Setting fewshot manual seed to 1234\n",
      "2025-05-14:16:20:32 INFO     [evaluator:223] Initializing openrouter-chat model, with arguments: {'model': 'qwen/qwen3-235b-a22b', 'num_concurrent': 64}\n",
      "2025-05-14:16:20:32 WARNING  [models.openai_completions:116] chat-completions endpoint requires the `--apply_chat_template` flag.\n",
      "2025-05-14:16:20:32 INFO     [models.api_models:115] Using max length 2048 - 1\n",
      "2025-05-14:16:20:32 INFO     [models.api_models:133] Using tokenizer None\n",
      "2025-05-14:16:20:34 INFO     [evaluator:286] strawberry: Using gen_kwargs: {'until': ['Question:', '</s>', '<|im_end|>'], 'do_sample': False}\n",
      "2025-05-14:16:20:34 WARNING  [evaluator:461] Chat template formatting change affects loglikelihood and multiple-choice tasks. See docs/chat-template-readme.md for details.\n",
      "2025-05-14:16:20:34 INFO     [api.task:434] Building contexts for strawberry on rank 0...\n",
      "100%|██████████| 100/100 [00:00<00:00, 4746.08it/s]\n",
      "2025-05-14:16:20:34 INFO     [evaluator:559] Running generate_until requests\n",
      "2025-05-14:16:20:34 INFO     [models.api_models:671] Tokenized requests are disabled. Context + generation length is not checked.\n",
      "Requesting API: 100%|██████████| 100/100 [00:29<00:00,  3.40it/s]\n",
      "2025-05-14:16:21:03 INFO     [loggers.evaluation_tracker:209] Saving results aggregated\n"
     ]
    },
    {
     "name": "stdout",
     "output_type": "stream",
     "text": [
      "openrouter-chat (model=qwen/qwen3-235b-a22b,num_concurrent=64), gen_kwargs: (None), limit: None, num_fewshot: None, batch_size: 1\n",
      "|  Tasks   |Version|     Filter     |n-shot|  Metric   |   |Value|   |Stderr|\n",
      "|----------|------:|----------------|-----:|-----------|---|----:|---|-----:|\n",
      "|strawberry|      1|flexible-extract|     0|exact_match|↑  |    0|±  |     0|\n",
      "|          |       |strict-match    |     0|exact_match|↑  |    0|±  |     0|\n",
      "\n"
     ]
    },
    {
     "name": "stderr",
     "output_type": "stream",
     "text": [
      "2025-05-14:16:21:10 INFO     [__main__:440] Selected Tasks: ['strawberry']\n",
      "2025-05-14:16:21:10 INFO     [evaluator:185] Setting random seed to 0 | Setting numpy seed to 1234 | Setting torch manual seed to 1234 | Setting fewshot manual seed to 1234\n",
      "2025-05-14:16:21:10 INFO     [evaluator:223] Initializing openrouter-chat model, with arguments: {'model': 'deepseek/deepseek-chat-v3-0324', 'num_concurrent': 64}\n",
      "2025-05-14:16:21:10 WARNING  [models.openai_completions:116] chat-completions endpoint requires the `--apply_chat_template` flag.\n",
      "2025-05-14:16:21:10 INFO     [models.api_models:115] Using max length 2048 - 1\n",
      "2025-05-14:16:21:10 INFO     [models.api_models:133] Using tokenizer None\n",
      "2025-05-14:16:21:11 INFO     [evaluator:286] strawberry: Using gen_kwargs: {'until': ['Question:', '</s>', '<|im_end|>'], 'do_sample': False}\n",
      "2025-05-14:16:21:11 WARNING  [evaluator:461] Chat template formatting change affects loglikelihood and multiple-choice tasks. See docs/chat-template-readme.md for details.\n",
      "2025-05-14:16:21:11 INFO     [api.task:434] Building contexts for strawberry on rank 0...\n",
      "100%|██████████| 100/100 [00:00<00:00, 4347.42it/s]\n",
      "2025-05-14:16:21:11 INFO     [evaluator:559] Running generate_until requests\n",
      "2025-05-14:16:21:11 INFO     [models.api_models:671] Tokenized requests are disabled. Context + generation length is not checked.\n",
      "Requesting API: 100%|██████████| 100/100 [00:44<00:00,  2.23it/s]\n",
      "2025-05-14:16:21:56 INFO     [loggers.evaluation_tracker:209] Saving results aggregated\n"
     ]
    },
    {
     "name": "stdout",
     "output_type": "stream",
     "text": [
      "openrouter-chat (model=deepseek/deepseek-chat-v3-0324,num_concurrent=64), gen_kwargs: (None), limit: None, num_fewshot: None, batch_size: 1\n",
      "|  Tasks   |Version|     Filter     |n-shot|  Metric   |   |Value|   |Stderr|\n",
      "|----------|------:|----------------|-----:|-----------|---|----:|---|-----:|\n",
      "|strawberry|      1|flexible-extract|     0|exact_match|↑  | 0.68|±  |0.0469|\n",
      "|          |       |strict-match    |     0|exact_match|↑  | 0.00|±  |0.0000|\n",
      "\n"
     ]
    }
   ],
   "source": [
    "%%bash\n",
    "cd ..\n",
    "for model in \"meta-llama/llama-3.1-8b-instruct\" \"mistralai/mistral-small-3.1-24b-instruct\" \"meta-llama/llama-3.3-70b-instruct\" \"qwen/qwen3-235b-a22b\" \"deepseek/deepseek-chat-v3-0324\"; do\n",
    "    OPENAI_API_KEY=$OPENROUTER_API_KEY lm_eval --model openrouter-chat \\\n",
    "        --model_args model=$model,num_concurrent=64 \\\n",
    "        --tasks strawberry \\\n",
    "        --apply_chat_template \\\n",
    "        --output_path experimental-notebooks/polynomial-results-data=gt\n",
    "done"
   ]
  },
  {
   "cell_type": "code",
   "execution_count": 22,
   "metadata": {},
   "outputs": [
    {
     "data": {
      "text/plain": [
       "[<matplotlib.lines.Line2D at 0x13758aeb0>]"
      ]
     },
     "execution_count": 22,
     "metadata": {},
     "output_type": "execute_result"
    },
    {
     "data": {
      "image/png": "[encoded data removed]",
      "text/plain": [
       "<Figure size 1500x500 with 3 Axes>"
      ]
     },
     "metadata": {},
     "output_type": "display_data"
    }
   ],
   "source": [
    "import matplotlib.pyplot as plt\n",
    "\n",
    "synthetic_results = {\n",
    "    \"Llama 3.1 8B\": 0.17,\n",
    "    \"Llama 3.3 70B\": 0.25,\n",
    "    \"Mistral 24B\": 0.42,\n",
    "    \"Qwen 235B\": 0.0,\n",
    "    \"DeepSeek 324\": 0.22,\n",
    "}\n",
    "gt_results = {\n",
    "    \"Llama 3.1 8B\": 0.56,\n",
    "    \"Llama 3.3 70B\": 0.66,\n",
    "    \"Mistral 24B\": 0.64,\n",
    "    \"Qwen 235B\": 0.0,\n",
    "    \"DeepSeek 324\": 0.68,\n",
    "}\n",
    "\n",
    "background_color = \"#FFFFFF\"\n",
    "text_and_border_color = \"#384039\"\n",
    "model_colors = {\n",
    "    \"Llama 3.1 8B\": \"#DEC5E6\",\n",
    "    \"Llama 3.3 70B\": \"#AA62C0\",\n",
    "    \"Mistral 24B\": \"#E54F4F\",\n",
    "    \"Qwen 235B\": \"#176440\",\n",
    "    \"DeepSeek 324\": \"#E57C4F\",\n",
    "}\n",
    "\n",
    "# make a plot of 2 bar charts then a scatter plot\n",
    "fig, axs = plt.subplots(1, 3, figsize=(15, 5))\n",
    "fig.set_facecolor(background_color)\n",
    "\n",
    "for i in range(3):\n",
    "    axs[i].set_facecolor(background_color)\n",
    "    axs[i].tick_params(axis=\"x\", rotation=45, width=2)\n",
    "    axs[i].tick_params(axis=\"y\", width=2)\n",
    "    axs[i].spines[\"top\"].set_linewidth(2)\n",
    "    axs[i].spines[\"right\"].set_linewidth(2)\n",
    "    axs[i].spines[\"bottom\"].set_linewidth(2)\n",
    "    axs[i].spines[\"left\"].set_linewidth(2)\n",
    "    axs[i].spines[\"top\"].set_color(text_and_border_color)\n",
    "    axs[i].spines[\"right\"].set_color(text_and_border_color)\n",
    "    axs[i].spines[\"bottom\"].set_color(text_and_border_color)\n",
    "    axs[i].spines[\"left\"].set_color(text_and_border_color)\n",
    "\n",
    "# plot the synthetic results\n",
    "axs[0].bar(\n",
    "    synthetic_results.keys(),\n",
    "    synthetic_results.values(),\n",
    "    color=list(model_colors.values()),\n",
    ")\n",
    "axs[0].set_box_aspect(1)\n",
    "axs[0].set_title(\"Synthetic Results\", color=text_and_border_color)\n",
    "axs[0].set_xlabel(\"Model\", color=text_and_border_color)\n",
    "axs[0].set_ylabel(\"Accuracy\", color=text_and_border_color)\n",
    "\n",
    "\n",
    "# plot the gt results\n",
    "axs[1].bar(gt_results.keys(), gt_results.values(), color=list(model_colors.values()))\n",
    "axs[1].set_box_aspect(1)\n",
    "axs[1].set_title(\"GT Results\", color=text_and_border_color)\n",
    "axs[1].set_xlabel(\"Model\", color=text_and_border_color)\n",
    "axs[1].set_ylabel(\"Accuracy\", color=text_and_border_color)\n",
    "\n",
    "# plot the scatter plot\n",
    "axs[2].scatter(\n",
    "    synthetic_results.values(),\n",
    "    gt_results.values(),\n",
    "    color=list(model_colors.values()),\n",
    "    s=200,\n",
    ")\n",
    "axs[2].set_box_aspect(1)\n",
    "axs[2].set_title(\"Scatter Plot of Synthetic vs GT Results\", color=text_and_border_color)\n",
    "axs[2].set_xlabel(\"Synthetic Accuracy\", color=text_and_border_color)\n",
    "axs[2].set_ylabel(\"GT Accuracy\", color=text_and_border_color)\n",
    "axs[2].plot([0, 1], [0, 1], color=\"lightgray\", linewidth=4, linestyle=\"--\", zorder=0)"
   ]
  },
  {
   "cell_type": "code",
   "execution_count": 20,
   "metadata": {},
   "outputs": [
    {
     "data": {
      "text/plain": [
       "SignificanceResult(statistic=np.float64(0.6), pvalue=np.float64(0.28475697986529375))"
      ]
     },
     "execution_count": 20,
     "metadata": {},
     "output_type": "execute_result"
    }
   ],
   "source": [
    "# compute spearman's rank correlation coefficient\n",
    "from scipy.stats import spearmanr\n",
    "\n",
    "spearmanr(list(synthetic_results.values()), list(gt_results.values()))"
   ]
  },
  {
   "cell_type": "code",
   "execution_count": null,
   "metadata": {},
   "outputs": [],
   "source": []
  }
 ],
 "metadata": {
  "kernelspec": {
   "display_name": "lm-harness",
   "language": "python",
   "name": "python3"
  },
  "language_info": {
   "codemirror_mode": {
    "name": "ipython",
    "version": 3
   },
   "file_extension": ".py",
   "mimetype": "text/x-python",
   "name": "python",
   "nbconvert_exporter": "python",
   "pygments_lexer": "ipython3",
   "version": "3.9.16"
  }
 },
 "nbformat": 4,
 "nbformat_minor": 2
}
